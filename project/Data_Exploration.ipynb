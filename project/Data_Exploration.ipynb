{
  "cells": [
    {
      "attachments": {},
      "cell_type": "markdown",
      "metadata": {},
      "source": [
        "This notebook contains the code used in performing data exploration for the project."
      ]
    },
    {
      "cell_type": "code",
      "execution_count": 2,
      "metadata": {},
      "outputs": [],
      "source": [
        "#Import statements. Run this cell first.\n",
        "import pandas as pd\n",
        "import numpy as np\n",
        "import snscrape.modules.twitter as snt\n",
        "import matplotlib.pyplot as plt\n",
        "import matplotlib.ticker as ticker\n",
        "import os, re, csv, pickle, sklearn, tqdm, spacy, nltk, gensim\n",
        "from datetime import datetime\n",
        "from scipy import stats\n",
        "from nltk.corpus import stopwords\n",
        "import gensim.corpora as corpora\n",
        "from gensim.models import CoherenceModel\n",
        "from gensim.utils import simple_preprocess\n",
        "from pprint import pprint\n",
        "import plotly.express as px\n",
        "#nltk.download('stopwords')"
      ]
    },
    {
      "cell_type": "code",
      "execution_count": 4,
      "metadata": {
        "id": "UNWU8ATYgtJj"
      },
      "outputs": [],
      "source": [
        "def load_csv():\n",
        "    columns = [\"Tweet URL\",\"Keywords\",\"Account handle\",\"Account type\",\"Joined\",\n",
        "               \"Following\",\"Followers\",\"Tweet Translated\",\"Tweet NLP\",\"Tweet Type\",\n",
        "               \"Mentions Aquinos / Liberal Party\",\"Mentions Aquinos / Liberal Party Negatively\",\n",
        "               \"Date posted\",\"Likes\",\"Replies\",\"Retweets\",\"Quote Tweets\",\"Retweets + Quote Tweets\"]\n",
        "    df = pd.read_csv(\"Dataset-Group-57.csv\")[columns].dropna(subset=[\"Tweet URL\"])\n",
        "    return df"
      ]
    },
    {
      "cell_type": "code",
      "execution_count": 6,
      "metadata": {
        "colab": {
          "base_uri": "https://localhost:8080/"
        },
        "id": "g3nbfq5rifOC",
        "outputId": "09fcc29d-a33b-4479-aa66-ddf2f1306cff"
      },
      "outputs": [
        {
          "name": "stdout",
          "output_type": "stream",
          "text": [
            "Following - all\n",
            "Size: 170\n"
          ]
        },
        {
          "ename": "TypeError",
          "evalue": "ufunc 'divide' not supported for the input types, and the inputs could not be safely coerced to any supported types according to the casting rule ''safe''",
          "output_type": "error",
          "traceback": [
            "\u001b[1;31m---------------------------------------------------------------------------\u001b[0m",
            "\u001b[1;31mTypeError\u001b[0m                                 Traceback (most recent call last)",
            "Cell \u001b[1;32mIn[6], line 9\u001b[0m\n\u001b[0;32m      7\u001b[0m ordf \u001b[39m=\u001b[39m df[label]\u001b[39m.\u001b[39msort_values()\u001b[39m.\u001b[39mto_numpy()[:\u001b[39m170\u001b[39m]\n\u001b[0;32m      8\u001b[0m \u001b[39mprint\u001b[39m(\u001b[39mf\u001b[39m\u001b[39m\"\u001b[39m\u001b[39mSize: \u001b[39m\u001b[39m{\u001b[39;00mordf\u001b[39m.\u001b[39msize\u001b[39m}\u001b[39;00m\u001b[39m\"\u001b[39m)\n\u001b[1;32m----> 9\u001b[0m \u001b[39mprint\u001b[39m(\u001b[39mf\u001b[39m\u001b[39m\"\u001b[39m\u001b[39mMean: \u001b[39m\u001b[39m{\u001b[39;00m\u001b[39mround\u001b[39m(np\u001b[39m.\u001b[39;49mmean(ordf),\u001b[39m6\u001b[39m)\u001b[39m}\u001b[39;00m\u001b[39m\"\u001b[39m)\n\u001b[0;32m     10\u001b[0m \u001b[39mprint\u001b[39m(\u001b[39mf\u001b[39m\u001b[39m\"\u001b[39m\u001b[39mMedian: \u001b[39m\u001b[39m{\u001b[39;00m\u001b[39mround\u001b[39m(np\u001b[39m.\u001b[39mmedian(ordf),\u001b[39m6\u001b[39m)\u001b[39m}\u001b[39;00m\u001b[39m\"\u001b[39m)\n\u001b[0;32m     11\u001b[0m \u001b[39mprint\u001b[39m(\u001b[39mf\u001b[39m\u001b[39m\"\u001b[39m\u001b[39mMode: \u001b[39m\u001b[39m{\u001b[39;00mstats\u001b[39m.\u001b[39mmode(ordf)\u001b[39m}\u001b[39;00m\u001b[39m\"\u001b[39m)\n",
            "File \u001b[1;32mc:\\Users\\Migui\\AppData\\Local\\Programs\\Python\\Python311\\Lib\\site-packages\\numpy\\core\\fromnumeric.py:3504\u001b[0m, in \u001b[0;36mmean\u001b[1;34m(a, axis, dtype, out, keepdims, where)\u001b[0m\n\u001b[0;32m   3501\u001b[0m     \u001b[39melse\u001b[39;00m:\n\u001b[0;32m   3502\u001b[0m         \u001b[39mreturn\u001b[39;00m mean(axis\u001b[39m=\u001b[39maxis, dtype\u001b[39m=\u001b[39mdtype, out\u001b[39m=\u001b[39mout, \u001b[39m*\u001b[39m\u001b[39m*\u001b[39mkwargs)\n\u001b[1;32m-> 3504\u001b[0m \u001b[39mreturn\u001b[39;00m _methods\u001b[39m.\u001b[39;49m_mean(a, axis\u001b[39m=\u001b[39;49maxis, dtype\u001b[39m=\u001b[39;49mdtype,\n\u001b[0;32m   3505\u001b[0m                       out\u001b[39m=\u001b[39;49mout, \u001b[39m*\u001b[39;49m\u001b[39m*\u001b[39;49mkwargs)\n",
            "File \u001b[1;32mc:\\Users\\Migui\\AppData\\Local\\Programs\\Python\\Python311\\Lib\\site-packages\\numpy\\core\\_methods.py:131\u001b[0m, in \u001b[0;36m_mean\u001b[1;34m(a, axis, dtype, out, keepdims, where)\u001b[0m\n\u001b[0;32m    129\u001b[0m         ret \u001b[39m=\u001b[39m ret\u001b[39m.\u001b[39mdtype\u001b[39m.\u001b[39mtype(ret \u001b[39m/\u001b[39m rcount)\n\u001b[0;32m    130\u001b[0m \u001b[39melse\u001b[39;00m:\n\u001b[1;32m--> 131\u001b[0m     ret \u001b[39m=\u001b[39m ret \u001b[39m/\u001b[39;49m rcount\n\u001b[0;32m    133\u001b[0m \u001b[39mreturn\u001b[39;00m ret\n",
            "\u001b[1;31mTypeError\u001b[0m: ufunc 'divide' not supported for the input types, and the inputs could not be safely coerced to any supported types according to the casting rule ''safe''"
          ]
        }
      ],
      "source": [
        "labels =     [\"Following\",\"Followers\", \"Mentions Aquinos / Liberal Party\",\"Mentions Aquinos / Liberal Party Negatively\",\n",
        "               \"Likes\",\"Replies\",\"Retweets\",\"Quote Tweets\",\"Retweets + Quote Tweets\"]\n",
        "df = load_csv()\n",
        "###\n",
        "for label in labels:\n",
        "    print(f\"{label} - all\")\n",
        "    ordf = df[label].sort_values().to_numpy()[:170]\n",
        "    print(f\"Size: {ordf.size}\")\n",
        "    print(f\"Mean: {round(np.mean(ordf),6)}\")\n",
        "    print(f\"Median: {round(np.median(ordf),6)}\")\n",
        "    print(f\"Mode: {stats.mode(ordf)}\")\n",
        "    print(f\"Range: [{np.min(ordf)}],[{np.max(ordf)}]\")\n",
        "    print(f\"Sample Std. Dev: {round(np.std(ordf,ddof=1),6)}\")\n",
        "    print(f\"\\n{label} - reply\")\n",
        "    ordf2 = df[df['Tweet Type'].str.contains(\"Reply\",na=False)][label].sort_values().to_numpy()[:170]\n",
        "    print(f\"Size: {ordf2.size}\")\n",
        "    print(f\"Mean: {round(np.mean(ordf2),6)}\")\n",
        "    print(f\"Median: {round(np.median(ordf2),6)}\")\n",
        "    print(f\"Mode: {stats.mode(ordf2)}\")\n",
        "    print(f\"Range: [{np.min(ordf2)}],[{np.max(ordf2)}]\")\n",
        "    print(f\"Sample Std. Dev: {round(np.std(ordf2,ddof=1),6)}\")\n",
        "    print(f\"\\n{label} - non-reply\")\n",
        "    ordf3 = df[~df['Tweet Type'].str.contains(\"Reply\",na=False)][label].sort_values().to_numpy()[:150]\n",
        "    print(f\"Size: {ordf3.size}\")\n",
        "    print(f\"Mean: {round(np.mean(ordf3),6)}\")\n",
        "    print(f\"Median: {round(np.median(ordf3),6)}\")\n",
        "    print(f\"Mode: {stats.mode(ordf3)}\")\n",
        "    print(f\"Range: [{np.min(ordf3)}],[{np.max(ordf3)}]\")\n",
        "    print(f\"Sample Std. Dev: {round(np.std(ordf3,ddof=1),6)}\")\n",
        "    print(\"\\n\\n\")\n",
        "###"
      ]
    },
    {
      "cell_type": "code",
      "execution_count": 8,
      "metadata": {
        "colab": {
          "base_uri": "https://localhost:8080/"
        },
        "id": "6W6xLXa7ikTI",
        "outputId": "1665fb61-4aa3-44fb-c308-65d1cf1b29c2"
      },
      "outputs": [
        {
          "name": "stdout",
          "output_type": "stream",
          "text": [
            "Chi-Square Test: Critical Value = 3.841, alpha = 0.05, df = 1\n",
            "Chi-Square: Mentions Liberal Party\n",
            "Yes: 52 | No: 118\n",
            "Power_divergenceResult(statistic=25.623529411764707, pvalue=4.149486677168825e-07)\n",
            "Chi-Square: Within BBM Campaign Period\n",
            "Yes: 103 | No: 67\n",
            "Power_divergenceResult(statistic=522.2118506493507, pvalue=1.397418341452514e-115)\n"
          ]
        }
      ],
      "source": [
        "df = load_csv()\n",
        "#classify categories\n",
        "libcat = [df['Mentions Aquinos / Liberal Party'][df['Mentions Aquinos / Liberal Party']==True].size,df['Mentions Aquinos / Liberal Party'][df['Mentions Aquinos / Liberal Party']==False].size]\n",
        "date_posted = pd.to_datetime(df[\"Date posted\"].str.strip(),format='%d/%m/%y %H:%M')\n",
        "date_range = pd.to_datetime(pd.DataFrame({'year':[2021,2022],'month':[10,5],'day':[1,31]}))\n",
        "mask = (date_posted >= date_range[0]) & (date_posted <= date_range[1])\n",
        "bbmcat = [date_posted.loc[mask].size,date_posted.size-date_posted.loc[mask].size]\n",
        "print(\"Chi-Square Test: Critical Value = 3.841, alpha = 0.05, df = 1\")\n",
        "print(\"Chi-Square: Mentions Liberal Party\")\n",
        "print(f\"Yes: {libcat[0]} | No: {libcat[1]}\")\n",
        "print(stats.chisquare(f_obs = libcat,f_exp=[85,85]))\n",
        "print(\"Chi-Square: Within BBM Campaign Period\")\n",
        "print(f\"Yes: {bbmcat[0]} | No: {bbmcat[1]}\")\n",
        "print(stats.chisquare(f_obs = [103,67],f_exp=[16,154]))"
      ]
    },
    {
      "cell_type": "code",
      "execution_count": 27,
      "metadata": {
        "colab": {
          "base_uri": "https://localhost:8080/",
          "height": 559
        },
        "id": "-gQqfa2jROqM",
        "outputId": "7ddfcfa3-65cf-4585-b16a-152fb378e162"
      },
      "outputs": [
        {
          "name": "stdout",
          "output_type": "stream",
          "text": [
            "[0, 0, 0, 0, 0, 0, 0, 0, 0, 0, 0, 0, 0, 0, 0, 0, 0, 0, 0, 1, 1, 1, 1, 1, 1, 1, 1, 1, 1, 1, 1, 2, 2, 2, 2, 2, 2, 2, 3, 3, 3, 3, 3, 3, 3, 3, 3, 3, 3, 3, 4, 4, 4, 4, 4, 5, 5, 5, 5, 5, 6, 6, 6, 7, 7, 7, 7, 7, 7, 7, 7, 7, 7, 8, 8, 8, 8, 8, 8, 8, 8, 9, 9, 10, 10, 10, 11, 12, 12, 13, 13, 14, 15, 15, 15, 16, 16, 16, 18, 18, 20, 21, 21, 26, 26, 28, 29, 29, 34, 35, 40, 41, 43, 43, 44, 45, 48, 49, 50, 51, 51, 52, 52, 55, 58, 58, 60, 64, 65, 65, 67, 69, 70, 71, 77, 78, 81, 81, 81, 82, 82, 83, 83, 86, 86, 86, 87, 88, 89, 90, 93, 93, 94, 95, 96, 96, 103, 117, 119, 119, 120, 120, 125, 128, 142, 143, 146, 146, 150, 175]\n",
            "10.0\n"
          ]
        },
        {
          "data": {
            "image/png": "[encoded data removed]",
            "text/plain": [
              "<Figure size 640x480 with 1 Axes>"
            ]
          },
          "metadata": {},
          "output_type": "display_data"
        }
      ],
      "source": [
        "df = load_csv()\n",
        "df = df.dropna(subset=[\"Tweet URL\"])\n",
        "\n",
        "#use this to filter Aquino/LP mentions\n",
        "#df = df[df['Mentions Aquinos / Liberal Party']==True]\n",
        "\n",
        "#get the date parameters\n",
        "df[\"Joined\"] = pd.to_datetime(df[\"Joined\"].str.strip(),format='%m/%y')\n",
        "df[\"Joined\"] = df[\"Joined\"].dt.to_period('m')\n",
        "df[\"Date posted\"] = pd.to_datetime(df[\"Date posted\"].str.strip(),format='%d/%m/%y %H:%M')\n",
        "df[\"Date posted\"] = df[\"Date posted\"].dt.to_period('m')\n",
        "\n",
        "#get the time from last post to account creation\n",
        "date_diff = (df[\"Date posted\"].astype('int64').astype(int) - df[\"Joined\"].astype('int64').astype(int)).tolist()\n",
        "date_diff.sort()\n",
        "print(date_diff)\n",
        "\n",
        "fig, axes = plt.subplots(nrows=1, ncols=1, sharex=True, sharey=True)\n",
        "#plot dates\n",
        "#'''\n",
        "plt.xlabel(\"Months\")\n",
        "plt.ylabel(\"Accounts\")\n",
        "year_bins = np.arange(0,max(date_diff)+12,12)\n",
        "month_bins = np.arange(0,max(date_diff)+12)\n",
        "plt.hist(date_diff,bins=year_bins,color=\"blue\")\n",
        "plt.hist(date_diff,bins=month_bins,color=\"green\")\n",
        "plt.legend([\"Total by Year\",\"Total by Month\"])\n",
        "\n",
        "print(np.median(date_diff))\n",
        "plt.xticks(diff_bins,rotation=75)\n",
        "plt.axvline(np.median(date_diff),alpha=0.5,color='#9CAFB7') #This marks the mean of the account ages relative to the date that the tweet was posted. Do not change the coordinates.\n",
        "axes.annotate('Median Age of Accounts (10 months)', xy=(np.median(date_diff), 70), xytext=(10, 10),textcoords='offset points', arrowprops=dict(arrowstyle='->'))\n",
        "plt.title(\"Months Since Account Creation To Tweet\")\n",
        "plt.show()\n"
      ]
    },
    {
      "cell_type": "code",
      "execution_count": 33,
      "metadata": {},
      "outputs": [
        {
          "name": "stdout",
          "output_type": "stream",
          "text": [
            "0       6\n",
            "1      11\n",
            "2      11\n",
            "3       9\n",
            "4       9\n",
            "       ..\n",
            "165     4\n",
            "166     4\n",
            "167     3\n",
            "168     3\n",
            "169    10\n",
            "Name: Month, Length: 170, dtype: int64\n"
          ]
        },
        {
          "name": "stderr",
          "output_type": "stream",
          "text": [
            "C:\\Users\\Migui\\AppData\\Local\\Temp\\ipykernel_17032\\470102643.py:16: SettingWithCopyWarning:\n",
            "\n",
            "\n",
            "A value is trying to be set on a copy of a slice from a DataFrame.\n",
            "Try using .loc[row_indexer,col_indexer] = value instead\n",
            "\n",
            "See the caveats in the documentation: https://pandas.pydata.org/pandas-docs/stable/user_guide/indexing.html#returning-a-view-versus-a-copy\n",
            "\n",
            "C:\\Users\\Migui\\AppData\\Local\\Temp\\ipykernel_17032\\470102643.py:17: SettingWithCopyWarning:\n",
            "\n",
            "\n",
            "A value is trying to be set on a copy of a slice from a DataFrame.\n",
            "Try using .loc[row_indexer,col_indexer] = value instead\n",
            "\n",
            "See the caveats in the documentation: https://pandas.pydata.org/pandas-docs/stable/user_guide/indexing.html#returning-a-view-versus-a-copy\n",
            "\n"
          ]
        },
        {
          "data": {
            "application/vnd.plotly.v1+json": {
              "config": {
                "plotlyServerURL": "https://plot.ly"
              },
              "data": [
                {
                  "coloraxis": "coloraxis",
                  "hovertemplate": "Month: %{x}<br>Year: %{y}<br>color: %{z}<extra></extra>",
                  "name": "0",
                  "type": "heatmap",
                  "x": [
                    1,
                    2,
                    3,
                    4,
                    5,
                    6,
                    7,
                    8,
                    9,
                    10,
                    11,
                    12
                  ],
                  "xaxis": "x",
                  "y": [
                    2016,
                    2017,
                    2018,
                    2019,
                    2020,
                    2021,
                    2022
                  ],
                  "yaxis": "y",
                  "z": [
                    [
                      null,
                      null,
                      0,
                      0,
                      0,
                      0,
                      null,
                      1,
                      null,
                      null,
                      1,
                      1
                    ],
                    [
                      null,
                      null,
                      null,
                      null,
                      null,
                      null,
                      null,
                      0,
                      0,
                      null,
                      3,
                      0
                    ],
                    [
                      null,
                      null,
                      null,
                      null,
                      0,
                      1,
                      0,
                      1,
                      1,
                      0,
                      null,
                      0
                    ],
                    [
                      null,
                      null,
                      null,
                      null,
                      null,
                      null,
                      null,
                      null,
                      0,
                      1,
                      null,
                      1
                    ],
                    [
                      null,
                      null,
                      null,
                      null,
                      0,
                      null,
                      0,
                      3,
                      0,
                      1,
                      null,
                      null
                    ],
                    [
                      null,
                      null,
                      null,
                      null,
                      null,
                      0,
                      null,
                      0,
                      4,
                      6,
                      5,
                      4
                    ],
                    [
                      3,
                      0,
                      6,
                      2,
                      1,
                      2,
                      1,
                      1,
                      1,
                      1,
                      null,
                      0
                    ]
                  ]
                }
              ],
              "layout": {
                "coloraxis": {
                  "colorscale": [
                    [
                      0,
                      "#00224e"
                    ],
                    [
                      0.1111111111111111,
                      "#123570"
                    ],
                    [
                      0.2222222222222222,
                      "#3b496c"
                    ],
                    [
                      0.3333333333333333,
                      "#575d6d"
                    ],
                    [
                      0.4444444444444444,
                      "#707173"
                    ],
                    [
                      0.5555555555555556,
                      "#8a8678"
                    ],
                    [
                      0.6666666666666666,
                      "#a59c74"
                    ],
                    [
                      0.7777777777777778,
                      "#c3b369"
                    ],
                    [
                      0.8888888888888888,
                      "#e1cc55"
                    ],
                    [
                      1,
                      "#fee838"
                    ]
                  ]
                },
                "template": {
                  "data": {
                    "bar": [
                      {
                        "error_x": {
                          "color": "#2a3f5f"
                        },
                        "error_y": {
                          "color": "#2a3f5f"
                        },
                        "marker": {
                          "line": {
                            "color": "#E5ECF6",
                            "width": 0.5
                          },
                          "pattern": {
                            "fillmode": "overlay",
                            "size": 10,
                            "solidity": 0.2
                          }
                        },
                        "type": "bar"
                      }
                    ],
                    "barpolar": [
                      {
                        "marker": {
                          "line": {
                            "color": "#E5ECF6",
                            "width": 0.5
                          },
                          "pattern": {
                            "fillmode": "overlay",
                            "size": 10,
                            "solidity": 0.2
                          }
                        },
                        "type": "barpolar"
                      }
                    ],
                    "carpet": [
                      {
                        "aaxis": {
                          "endlinecolor": "#2a3f5f",
                          "gridcolor": "white",
                          "linecolor": "white",
                          "minorgridcolor": "white",
                          "startlinecolor": "#2a3f5f"
                        },
                        "baxis": {
                          "endlinecolor": "#2a3f5f",
                          "gridcolor": "white",
                          "linecolor": "white",
                          "minorgridcolor": "white",
                          "startlinecolor": "#2a3f5f"
                        },
                        "type": "carpet"
                      }
                    ],
                    "choropleth": [
                      {
                        "colorbar": {
                          "outlinewidth": 0,
                          "ticks": ""
                        },
                        "type": "choropleth"
                      }
                    ],
                    "contour": [
                      {
                        "colorbar": {
                          "outlinewidth": 0,
                          "ticks": ""
                        },
                        "colorscale": [
                          [
                            0,
                            "#0d0887"
                          ],
                          [
                            0.1111111111111111,
                            "#46039f"
                          ],
                          [
                            0.2222222222222222,
                            "#7201a8"
                          ],
                          [
                            0.3333333333333333,
                            "#9c179e"
                          ],
                          [
                            0.4444444444444444,
                            "#bd3786"
                          ],
                          [
                            0.5555555555555556,
                            "#d8576b"
                          ],
                          [
                            0.6666666666666666,
                            "#ed7953"
                          ],
                          [
                            0.7777777777777778,
                            "#fb9f3a"
                          ],
                          [
                            0.8888888888888888,
                            "#fdca26"
                          ],
                          [
                            1,
                            "#f0f921"
                          ]
                        ],
                        "type": "contour"
                      }
                    ],
                    "contourcarpet": [
                      {
                        "colorbar": {
                          "outlinewidth": 0,
                          "ticks": ""
                        },
                        "type": "contourcarpet"
                      }
                    ],
                    "heatmap": [
                      {
                        "colorbar": {
                          "outlinewidth": 0,
                          "ticks": ""
                        },
                        "colorscale": [
                          [
                            0,
                            "#0d0887"
                          ],
                          [
                            0.1111111111111111,
                            "#46039f"
                          ],
                          [
                            0.2222222222222222,
                            "#7201a8"
                          ],
                          [
                            0.3333333333333333,
                            "#9c179e"
                          ],
                          [
                            0.4444444444444444,
                            "#bd3786"
                          ],
                          [
                            0.5555555555555556,
                            "#d8576b"
                          ],
                          [
                            0.6666666666666666,
                            "#ed7953"
                          ],
                          [
                            0.7777777777777778,
                            "#fb9f3a"
                          ],
                          [
                            0.8888888888888888,
                            "#fdca26"
                          ],
                          [
                            1,
                            "#f0f921"
                          ]
                        ],
                        "type": "heatmap"
                      }
                    ],
                    "heatmapgl": [
                      {
                        "colorbar": {
                          "outlinewidth": 0,
                          "ticks": ""
                        },
                        "colorscale": [
                          [
                            0,
                            "#0d0887"
                          ],
                          [
                            0.1111111111111111,
                            "#46039f"
                          ],
                          [
                            0.2222222222222222,
                            "#7201a8"
                          ],
                          [
                            0.3333333333333333,
                            "#9c179e"
                          ],
                          [
                            0.4444444444444444,
                            "#bd3786"
                          ],
                          [
                            0.5555555555555556,
                            "#d8576b"
                          ],
                          [
                            0.6666666666666666,
                            "#ed7953"
                          ],
                          [
                            0.7777777777777778,
                            "#fb9f3a"
                          ],
                          [
                            0.8888888888888888,
                            "#fdca26"
                          ],
                          [
                            1,
                            "#f0f921"
                          ]
                        ],
                        "type": "heatmapgl"
                      }
                    ],
                    "histogram": [
                      {
                        "marker": {
                          "pattern": {
                            "fillmode": "overlay",
                            "size": 10,
                            "solidity": 0.2
                          }
                        },
                        "type": "histogram"
                      }
                    ],
                    "histogram2d": [
                      {
                        "colorbar": {
                          "outlinewidth": 0,
                          "ticks": ""
                        },
                        "colorscale": [
                          [
                            0,
                            "#0d0887"
                          ],
                          [
                            0.1111111111111111,
                            "#46039f"
                          ],
                          [
                            0.2222222222222222,
                            "#7201a8"
                          ],
                          [
                            0.3333333333333333,
                            "#9c179e"
                          ],
                          [
                            0.4444444444444444,
                            "#bd3786"
                          ],
                          [
                            0.5555555555555556,
                            "#d8576b"
                          ],
                          [
                            0.6666666666666666,
                            "#ed7953"
                          ],
                          [
                            0.7777777777777778,
                            "#fb9f3a"
                          ],
                          [
                            0.8888888888888888,
                            "#fdca26"
                          ],
                          [
                            1,
                            "#f0f921"
                          ]
                        ],
                        "type": "histogram2d"
                      }
                    ],
                    "histogram2dcontour": [
                      {
                        "colorbar": {
                          "outlinewidth": 0,
                          "ticks": ""
                        },
                        "colorscale": [
                          [
                            0,
                            "#0d0887"
                          ],
                          [
                            0.1111111111111111,
                            "#46039f"
                          ],
                          [
                            0.2222222222222222,
                            "#7201a8"
                          ],
                          [
                            0.3333333333333333,
                            "#9c179e"
                          ],
                          [
                            0.4444444444444444,
                            "#bd3786"
                          ],
                          [
                            0.5555555555555556,
                            "#d8576b"
                          ],
                          [
                            0.6666666666666666,
                            "#ed7953"
                          ],
                          [
                            0.7777777777777778,
                            "#fb9f3a"
                          ],
                          [
                            0.8888888888888888,
                            "#fdca26"
                          ],
                          [
                            1,
                            "#f0f921"
                          ]
                        ],
                        "type": "histogram2dcontour"
                      }
                    ],
                    "mesh3d": [
                      {
                        "colorbar": {
                          "outlinewidth": 0,
                          "ticks": ""
                        },
                        "type": "mesh3d"
                      }
                    ],
                    "parcoords": [
                      {
                        "line": {
                          "colorbar": {
                            "outlinewidth": 0,
                            "ticks": ""
                          }
                        },
                        "type": "parcoords"
                      }
                    ],
                    "pie": [
                      {
                        "automargin": true,
                        "type": "pie"
                      }
                    ],
                    "scatter": [
                      {
                        "fillpattern": {
                          "fillmode": "overlay",
                          "size": 10,
                          "solidity": 0.2
                        },
                        "type": "scatter"
                      }
                    ],
                    "scatter3d": [
                      {
                        "line": {
                          "colorbar": {
                            "outlinewidth": 0,
                            "ticks": ""
                          }
                        },
                        "marker": {
                          "colorbar": {
                            "outlinewidth": 0,
                            "ticks": ""
                          }
                        },
                        "type": "scatter3d"
                      }
                    ],
                    "scattercarpet": [
                      {
                        "marker": {
                          "colorbar": {
                            "outlinewidth": 0,
                            "ticks": ""
                          }
                        },
                        "type": "scattercarpet"
                      }
                    ],
                    "scattergeo": [
                      {
                        "marker": {
                          "colorbar": {
                            "outlinewidth": 0,
                            "ticks": ""
                          }
                        },
                        "type": "scattergeo"
                      }
                    ],
                    "scattergl": [
                      {
                        "marker": {
                          "colorbar": {
                            "outlinewidth": 0,
                            "ticks": ""
                          }
                        },
                        "type": "scattergl"
                      }
                    ],
                    "scattermapbox": [
                      {
                        "marker": {
                          "colorbar": {
                            "outlinewidth": 0,
                            "ticks": ""
                          }
                        },
                        "type": "scattermapbox"
                      }
                    ],
                    "scatterpolar": [
                      {
                        "marker": {
                          "colorbar": {
                            "outlinewidth": 0,
                            "ticks": ""
                          }
                        },
                        "type": "scatterpolar"
                      }
                    ],
                    "scatterpolargl": [
                      {
                        "marker": {
                          "colorbar": {
                            "outlinewidth": 0,
                            "ticks": ""
                          }
                        },
                        "type": "scatterpolargl"
                      }
                    ],
                    "scatterternary": [
                      {
                        "marker": {
                          "colorbar": {
                            "outlinewidth": 0,
                            "ticks": ""
                          }
                        },
                        "type": "scatterternary"
                      }
                    ],
                    "surface": [
                      {
                        "colorbar": {
                          "outlinewidth": 0,
                          "ticks": ""
                        },
                        "colorscale": [
                          [
                            0,
                            "#0d0887"
                          ],
                          [
                            0.1111111111111111,
                            "#46039f"
                          ],
                          [
                            0.2222222222222222,
                            "#7201a8"
                          ],
                          [
                            0.3333333333333333,
                            "#9c179e"
                          ],
                          [
                            0.4444444444444444,
                            "#bd3786"
                          ],
                          [
                            0.5555555555555556,
                            "#d8576b"
                          ],
                          [
                            0.6666666666666666,
                            "#ed7953"
                          ],
                          [
                            0.7777777777777778,
                            "#fb9f3a"
                          ],
                          [
                            0.8888888888888888,
                            "#fdca26"
                          ],
                          [
                            1,
                            "#f0f921"
                          ]
                        ],
                        "type": "surface"
                      }
                    ],
                    "table": [
                      {
                        "cells": {
                          "fill": {
                            "color": "#EBF0F8"
                          },
                          "line": {
                            "color": "white"
                          }
                        },
                        "header": {
                          "fill": {
                            "color": "#C8D4E3"
                          },
                          "line": {
                            "color": "white"
                          }
                        },
                        "type": "table"
                      }
                    ]
                  },
                  "layout": {
                    "annotationdefaults": {
                      "arrowcolor": "#2a3f5f",
                      "arrowhead": 0,
                      "arrowwidth": 1
                    },
                    "autotypenumbers": "strict",
                    "coloraxis": {
                      "colorbar": {
                        "outlinewidth": 0,
                        "ticks": ""
                      }
                    },
                    "colorscale": {
                      "diverging": [
                        [
                          0,
                          "#8e0152"
                        ],
                        [
                          0.1,
                          "#c51b7d"
                        ],
                        [
                          0.2,
                          "#de77ae"
                        ],
                        [
                          0.3,
                          "#f1b6da"
                        ],
                        [
                          0.4,
                          "#fde0ef"
                        ],
                        [
                          0.5,
                          "#f7f7f7"
                        ],
                        [
                          0.6,
                          "#e6f5d0"
                        ],
                        [
                          0.7,
                          "#b8e186"
                        ],
                        [
                          0.8,
                          "#7fbc41"
                        ],
                        [
                          0.9,
                          "#4d9221"
                        ],
                        [
                          1,
                          "#276419"
                        ]
                      ],
                      "sequential": [
                        [
                          0,
                          "#0d0887"
                        ],
                        [
                          0.1111111111111111,
                          "#46039f"
                        ],
                        [
                          0.2222222222222222,
                          "#7201a8"
                        ],
                        [
                          0.3333333333333333,
                          "#9c179e"
                        ],
                        [
                          0.4444444444444444,
                          "#bd3786"
                        ],
                        [
                          0.5555555555555556,
                          "#d8576b"
                        ],
                        [
                          0.6666666666666666,
                          "#ed7953"
                        ],
                        [
                          0.7777777777777778,
                          "#fb9f3a"
                        ],
                        [
                          0.8888888888888888,
                          "#fdca26"
                        ],
                        [
                          1,
                          "#f0f921"
                        ]
                      ],
                      "sequentialminus": [
                        [
                          0,
                          "#0d0887"
                        ],
                        [
                          0.1111111111111111,
                          "#46039f"
                        ],
                        [
                          0.2222222222222222,
                          "#7201a8"
                        ],
                        [
                          0.3333333333333333,
                          "#9c179e"
                        ],
                        [
                          0.4444444444444444,
                          "#bd3786"
                        ],
                        [
                          0.5555555555555556,
                          "#d8576b"
                        ],
                        [
                          0.6666666666666666,
                          "#ed7953"
                        ],
                        [
                          0.7777777777777778,
                          "#fb9f3a"
                        ],
                        [
                          0.8888888888888888,
                          "#fdca26"
                        ],
                        [
                          1,
                          "#f0f921"
                        ]
                      ]
                    },
                    "colorway": [
                      "#636efa",
                      "#EF553B",
                      "#00cc96",
                      "#ab63fa",
                      "#FFA15A",
                      "#19d3f3",
                      "#FF6692",
                      "#B6E880",
                      "#FF97FF",
                      "#FECB52"
                    ],
                    "font": {
                      "color": "#2a3f5f"
                    },
                    "geo": {
                      "bgcolor": "white",
                      "lakecolor": "white",
                      "landcolor": "#E5ECF6",
                      "showlakes": true,
                      "showland": true,
                      "subunitcolor": "white"
                    },
                    "hoverlabel": {
                      "align": "left"
                    },
                    "hovermode": "closest",
                    "mapbox": {
                      "style": "light"
                    },
                    "paper_bgcolor": "white",
                    "plot_bgcolor": "#E5ECF6",
                    "polar": {
                      "angularaxis": {
                        "gridcolor": "white",
                        "linecolor": "white",
                        "ticks": ""
                      },
                      "bgcolor": "#E5ECF6",
                      "radialaxis": {
                        "gridcolor": "white",
                        "linecolor": "white",
                        "ticks": ""
                      }
                    },
                    "scene": {
                      "xaxis": {
                        "backgroundcolor": "#E5ECF6",
                        "gridcolor": "white",
                        "gridwidth": 2,
                        "linecolor": "white",
                        "showbackground": true,
                        "ticks": "",
                        "zerolinecolor": "white"
                      },
                      "yaxis": {
                        "backgroundcolor": "#E5ECF6",
                        "gridcolor": "white",
                        "gridwidth": 2,
                        "linecolor": "white",
                        "showbackground": true,
                        "ticks": "",
                        "zerolinecolor": "white"
                      },
                      "zaxis": {
                        "backgroundcolor": "#E5ECF6",
                        "gridcolor": "white",
                        "gridwidth": 2,
                        "linecolor": "white",
                        "showbackground": true,
                        "ticks": "",
                        "zerolinecolor": "white"
                      }
                    },
                    "shapedefaults": {
                      "line": {
                        "color": "#2a3f5f"
                      }
                    },
                    "ternary": {
                      "aaxis": {
                        "gridcolor": "white",
                        "linecolor": "white",
                        "ticks": ""
                      },
                      "baxis": {
                        "gridcolor": "white",
                        "linecolor": "white",
                        "ticks": ""
                      },
                      "bgcolor": "#E5ECF6",
                      "caxis": {
                        "gridcolor": "white",
                        "linecolor": "white",
                        "ticks": ""
                      }
                    },
                    "title": {
                      "x": 0.05
                    },
                    "xaxis": {
                      "automargin": true,
                      "gridcolor": "white",
                      "linecolor": "white",
                      "ticks": "",
                      "title": {
                        "standoff": 15
                      },
                      "zerolinecolor": "white",
                      "zerolinewidth": 2
                    },
                    "yaxis": {
                      "automargin": true,
                      "gridcolor": "white",
                      "linecolor": "white",
                      "ticks": "",
                      "title": {
                        "standoff": 15
                      },
                      "zerolinecolor": "white",
                      "zerolinewidth": 2
                    }
                  }
                },
                "title": {
                  "text": "Number of tweets mentioning the Aquinos or Liberal Party"
                },
                "xaxis": {
                  "anchor": "y",
                  "constrain": "domain",
                  "domain": [
                    0,
                    1
                  ],
                  "scaleanchor": "y",
                  "title": {
                    "text": "Month"
                  },
                  "type": "category"
                },
                "yaxis": {
                  "anchor": "x",
                  "autorange": "reversed",
                  "constrain": "domain",
                  "domain": [
                    0,
                    1
                  ],
                  "title": {
                    "text": "Year"
                  },
                  "type": "category"
                }
              }
            }
          },
          "metadata": {},
          "output_type": "display_data"
        }
      ],
      "source": [
        "df = load_csv()\n",
        "df = df.dropna(subset=[\"Tweet URL\"])\n",
        "\n",
        "#use this to filter Aquino/LP mentions\n",
        "#df = df[df['Mentions Aquinos / Liberal Party']==True]\n",
        "\n",
        "#get the date parameters\n",
        "df[\"Joined\"] = pd.to_datetime(df[\"Joined\"].str.strip(),format='%m/%y')\n",
        "df[\"Joined\"] = df[\"Joined\"].dt.to_period('m')\n",
        "df[\"Date posted\"] = pd.to_datetime(df[\"Date posted\"].str.strip(),format='%d/%m/%y %H:%M')\n",
        "df[\"Date posted\"] = df[\"Date posted\"].dt.to_period('m')\n",
        "\n",
        "#get the number of tweets mentioning the Aquinos / LP per month\n",
        "date_any = df[['Mentions Aquinos / Liberal Party']]\n",
        "date_not = (date_any * -1) + 1 #reverse the column to show 1 for tweets not mentioning Aquinos/LP\n",
        "date_any['Month']=df['Date posted'].dt.month\n",
        "date_any['Year']=df['Date posted'].dt.year\n",
        "date_not['Month']=df['Date posted'].dt.month\n",
        "date_not['Year']=df['Date posted'].dt.year\n",
        "print(date_any['Month'])\n",
        "\n",
        "grouping_any = date_any.groupby([\"Year\",\"Month\"]).agg({'Mentions Aquinos / Liberal Party': 'sum'})\n",
        "grouping_not = date_not.groupby([\"Year\",\"Month\"]).agg({'Mentions Aquinos / Liberal Party': 'sum'})\n",
        "\n",
        "date_group = pd.pivot_table(grouping_any,values='Mentions Aquinos / Liberal Party',index=[\"Year\"],columns=\"Month\")\n",
        "date_groupnot = pd.pivot_table(grouping_not,values='Mentions Aquinos / Liberal Party',index=[\"Year\"],columns=\"Month\")\n",
        "date_groupall=(date_group + date_groupnot).fillna(0)\n",
        "date_groupratio = (date_group/date_groupall).fillna(0)\n",
        "fig = px.imshow(date_group,color_continuous_scale='cividis',title=\"Number of tweets mentioning the Aquinos or Liberal Party\")\n",
        "fig.update_xaxes(type='category')\n",
        "fig.update_yaxes(type='category')\n",
        "fig.show()\n",
        "fig.write_html(\"results/mention_aquinolp.html\")"
      ]
    },
    {
      "cell_type": "code",
      "execution_count": 17,
      "metadata": {
        "colab": {
          "base_uri": "https://localhost:8080/",
          "height": 192
        },
        "id": "IfxHxTKcgwzT",
        "outputId": "f845c00f-e2de-436d-a55f-6f89a035fcac"
      },
      "outputs": [
        {
          "data": {
            "image/png": "[encoded data removed]",
            "text/plain": [
              "<Figure size 640x480 with 1 Axes>"
            ]
          },
          "metadata": {},
          "output_type": "display_data"
        }
      ],
      "source": [
        "df = load_csv()\n",
        "df = df.dropna(subset=[\"Tweet URL\"])\n",
        "\n",
        "#use this to filter Aquino/LP mentions\n",
        "#df = df[df['Mentions Aquinos / Liberal Party']==True]\n",
        "\n",
        "#get the date parameters\n",
        "df[\"Joined\"] = pd.to_datetime(df[\"Joined\"].str.strip(),format='%m/%y')\n",
        "df[\"Joined\"] = df[\"Joined\"].dt.to_period('m')\n",
        "df[\"Date posted\"] = pd.to_datetime(df[\"Date posted\"].str.strip(),format='%d/%m/%y %H:%M')\n",
        "df[\"Date posted\"] = df[\"Date posted\"].dt.to_period('m')\n",
        "\n",
        "date_joined = df[\"Joined\"].value_counts().sort_index()\n",
        "date_posted = df[\"Date posted\"].value_counts().sort_index()\n",
        "month_range = [min(df[\"Joined\"].min(),df[\"Date posted\"].min()).asfreq('y','start').asfreq('m','start'),max(df[\"Joined\"].max(),df[\"Date posted\"].max()).asfreq('y','end').asfreq('m','end')]\n",
        "\n",
        "month_index = pd.period_range(start=month_range[0], end=month_range[1]).to_series().astype(str).tolist()\n",
        "date_labels = ['']*len(month_index)\n",
        "date_labels[::12] = [date for date in month_index[::12]]\n",
        "date_joined = date_joined.reindex(month_index).sort_index().fillna(0)#.to_numpy(na_value=0)\n",
        "date_posted = date_posted.reindex(month_index).sort_index().fillna(0)#.to_numpy(na_value=0)\n",
        "\n",
        "fig, axes = plt.subplots(nrows=1, ncols=1, sharex=True, sharey=True)\n",
        "#plot dates\n",
        "plt.xlabel(\"Year-Month\")\n",
        "plt.ylabel(\"Number of Tweets/Accounts\")\n",
        "plt.plot(month_index[::-1],date_joined[::-1],color=\"blue\",label=\"Date Joined\")\n",
        "plt.plot(month_index[::-1],date_posted[::-1],color=\"red\",label=\"Date Posted\")\n",
        "plt.xticks(date_labels[::-1],rotation=75)\n",
        "plt.axvspan(6,8,alpha=0.5,color='#9CAFB7') #This marks the presidential elections period. Do not change the coordinates.\n",
        "plt.axvspan(13,15,alpha=0.5,color='#9CAFB7') #This marks the start of the BBM presidential campaign. Do not change the coordinates.\n",
        "axes.annotate('2022 Presidential Elections campaign period', xy=(6, 15), xytext=(10, 10),textcoords='offset points', arrowprops=dict(arrowstyle='->'))\n",
        "axes.annotate('BBM Files for Presidential Candidacy', xy=(14, 10), xytext=(10, 10),textcoords='offset points', arrowprops=dict(arrowstyle='->'))\n",
        "plt.legend()\n",
        "plt.title(\"Date of Account and Post Creation\")\n",
        "plt.legend()\n",
        "plt.show()\n"
      ]
    },
    {
      "cell_type": "code",
      "execution_count": 12,
      "metadata": {
        "colab": {
          "base_uri": "https://localhost:8080/",
          "height": 456
        },
        "id": "DonVq4vRC8H9",
        "outputId": "896874bd-bf6a-4744-feae-eac7a77dee0c"
      },
      "outputs": [
        {
          "data": {
            "image/png": "[encoded data removed]",
            "text/plain": [
              "<Figure size 640x480 with 1 Axes>"
            ]
          },
          "metadata": {},
          "output_type": "display_data"
        }
      ],
      "source": [
        "df = load_csv()\n",
        "df = df.dropna(subset=[\"Tweet URL\"])\n",
        "\n",
        "\n",
        "#get the tweet parameters. retweets_count also includes quote tweets\n",
        "likes_count = df[\"Likes\"].value_counts().sort_index()\n",
        "replies_count = df[\"Replies\"].value_counts().sort_index()\n",
        "retweets_count = df[\"Retweets + Quote Tweets\"].value_counts().sort_index()\n",
        "stats_range = [int(min(df[\"Likes\"].min(),df[\"Replies\"].min(),df[\"Retweets + Quote Tweets\"].min())),int(max(df[\"Likes\"].max(),df[\"Replies\"].max(),df[\"Retweets + Quote Tweets\"].max()))]\n",
        "stats_index = [i for i in range(stats_range[0],stats_range[1]+1)]\n",
        "likes_count = likes_count.reindex(stats_index).sort_index()#.to_numpy(na_value=0)\n",
        "replies_count = replies_count.reindex(stats_index).sort_index()#.to_numpy(na_value=0)\n",
        "retweets_count = retweets_count.reindex(stats_index).sort_index()#.to_numpy(na_value=0)\n",
        "\n",
        "#get the number of tweets from the same user\n",
        "tweets_count = df[\"Account handle\"].value_counts().value_counts().sort_index()\n",
        "\n",
        "\n",
        "\n",
        "\n",
        "df_stats = pd.concat([likes_count,replies_count,retweets_count],axis=1)\n",
        "df_stats.plot.bar()\n",
        "plt.xlabel(\"No. of Tweets\")\n",
        "plt.ylabel(\"Actions\")\n",
        "plt.legend([\"Likes\",\"Replies\",\"Retweets and Quote Tweets\"])\n",
        "plt.title(\"Tweet Engagement Values\")\n",
        "\n",
        "\n",
        "plt.show()\n"
      ]
    },
    {
      "attachments": {},
      "cell_type": "markdown",
      "metadata": {
        "id": "adi51nnb5_pf"
      },
      "source": [
        "### LDA Analysis\n",
        "#Please use the **LDA.ipynb** notebook instead."
      ]
    },
    {
      "cell_type": "code",
      "execution_count": 17,
      "metadata": {
        "colab": {
          "base_uri": "https://localhost:8080/"
        },
        "id": "tHDkFDKi6DQS",
        "outputId": "b2896fc6-0f1c-43e7-eb18-4beb1e74e754"
      },
      "outputs": [
        {
          "data": {
            "text/plain": [
              "(170, 34)"
            ]
          },
          "execution_count": 17,
          "metadata": {},
          "output_type": "execute_result"
        }
      ],
      "source": [
        "\n",
        "# Read data into papers\n",
        "papers = pd.read_csv('Dataset - Group 57 - Data.csv')\n",
        "# remove empty tweet translated\n",
        "papers.dropna(axis=0,\n",
        "    subset=[\"Tweet Translated\"],\n",
        "    inplace=True)\n",
        "papers.shape"
      ]
    },
    {
      "cell_type": "code",
      "execution_count": 18,
      "metadata": {
        "colab": {
          "base_uri": "https://localhost:8080/"
        },
        "id": "9wB1RlLD6GfZ",
        "outputId": "6bafcb9f-cf7b-47c3-b63b-ea65c40b7857"
      },
      "outputs": [
        {
          "name": "stdout",
          "output_type": "stream",
          "text": [
            "['cases', 'against', 'the', 'marcos', 'family', 'was', 'filed', 'by', 'the', 'pcgg', 'but', 'all', 'of', 'these', 'was', 'won', 'by', 'the', 'marcoses', 'still', 'the', 'government', 'takes', 'their', 'wealth']\n"
          ]
        }
      ],
      "source": [
        "\n",
        "def sent_to_words(sentences):\n",
        "    for sentence in sentences:\n",
        "        yield(gensim.utils.simple_preprocess(str(sentence), deacc=True))  # deacc=True removes punctuations\n",
        "\n",
        "data = papers[\"Tweet Translated\"].values.tolist()\n",
        "data_words = list(sent_to_words(data))\n",
        "\n",
        "print(data_words[:1][0][:30])\n"
      ]
    },
    {
      "cell_type": "code",
      "execution_count": 19,
      "metadata": {
        "id": "IWEnvDdF6Xln"
      },
      "outputs": [],
      "source": [
        "# Build the bigram and trigram models\n",
        "bigram = gensim.models.Phrases(data_words, min_count=5, threshold=100) # higher threshold fewer phrases.\n",
        "trigram = gensim.models.Phrases(bigram[data_words], threshold=100)\n",
        "\n",
        "# Faster way to get a sentence clubbed as a trigram/bigram\n",
        "bigram_mod = gensim.models.phrases.Phraser(bigram)\n",
        "trigram_mod = gensim.models.phrases.Phraser(trigram)"
      ]
    },
    {
      "cell_type": "code",
      "execution_count": 20,
      "metadata": {
        "colab": {
          "base_uri": "https://localhost:8080/"
        },
        "id": "wN2SP13h6YcM",
        "outputId": "7bea752d-ecd2-450e-b2c1-7cbca7c0a293"
      },
      "outputs": [],
      "source": [
        "# NLTK Stop words\n",
        "\n",
        "\n",
        "stop_words = stopwords.words('english')\n",
        "\n",
        "# Define functions for stopwords, bigrams, trigrams and lemmatization\n",
        "def remove_stopwords(texts):\n",
        "    return [[word for word in simple_preprocess(str(doc)) if word not in stop_words] for doc in texts]\n",
        "\n",
        "def make_bigrams(texts):\n",
        "    return [bigram_mod[doc] for doc in texts]\n",
        "\n",
        "def make_trigrams(texts):\n",
        "    return [trigram_mod[bigram_mod[doc]] for doc in texts]\n",
        "\n",
        "def lemmatization(texts, allowed_postags=['NOUN', 'ADJ', 'VERB', 'ADV']):\n",
        "    \"\"\"https://spacy.io/api/annotation\"\"\"\n",
        "    texts_out = []\n",
        "    for sent in texts:\n",
        "        doc = nlp(\" \".join(sent))\n",
        "        texts_out.append([token.lemma_ for token in doc if token.pos_ in allowed_postags])\n",
        "    return texts_out"
      ]
    },
    {
      "cell_type": "code",
      "execution_count": 21,
      "metadata": {
        "colab": {
          "base_uri": "https://localhost:8080/"
        },
        "id": "ulvNPGNE6ZGe",
        "outputId": "6e10bccb-db88-4b04-80a5-74883b87a967"
      },
      "outputs": [
        {
          "name": "stdout",
          "output_type": "stream",
          "text": [
            "['case', 'family', 'file', 'pcgg', 'marcose', 'still', 'government', 'take', 'wealth']\n"
          ]
        }
      ],
      "source": [
        "\n",
        "# Remove Stop Words\n",
        "data_words_nostops = remove_stopwords(data_words)\n",
        "\n",
        "# Form Bigrams\n",
        "data_words_bigrams = make_bigrams(data_words_nostops)\n",
        "\n",
        "# Initialize spacy 'en' model, keeping only tagger component (for efficiency)\n",
        "nlp = spacy.load(\"en_core_web_sm\", disable=['parser', 'ner'])\n",
        "\n",
        "# Do lemmatization keeping only noun, adj, vb, adv\n",
        "data_lemmatized = lemmatization(data_words_bigrams, allowed_postags=['NOUN', 'ADJ', 'VERB', 'ADV'])\n",
        "\n",
        "print(data_lemmatized[:1][0][:30])"
      ]
    },
    {
      "cell_type": "code",
      "execution_count": 22,
      "metadata": {
        "colab": {
          "base_uri": "https://localhost:8080/"
        },
        "id": "w22EHcPh6Zv9",
        "outputId": "8c051239-6053-4d2f-93f6-b5e548d18255"
      },
      "outputs": [
        {
          "name": "stdout",
          "output_type": "stream",
          "text": [
            "[(0, 1), (1, 1), (2, 1), (3, 1), (4, 1), (5, 1), (6, 1), (7, 1), (8, 1)]\n"
          ]
        }
      ],
      "source": [
        "\n",
        "# Create Dictionary\n",
        "id2word = corpora.Dictionary(data_lemmatized)\n",
        "\n",
        "# Create Corpus\n",
        "texts = data_lemmatized\n",
        "\n",
        "# Term Document Frequency\n",
        "corpus = [id2word.doc2bow(text) for text in texts]\n",
        "\n",
        "# View\n",
        "print(corpus[:1][0][:30])"
      ]
    },
    {
      "cell_type": "code",
      "execution_count": 23,
      "metadata": {
        "id": "mpm7U5IW6aT9"
      },
      "outputs": [],
      "source": [
        "# Build LDA model\n",
        "lda_model = gensim.models.LdaMulticore(corpus=corpus,\n",
        "                                       id2word=id2word,\n",
        "                                       num_topics=10,\n",
        "                                       random_state=100,\n",
        "                                       chunksize=100,\n",
        "                                       passes=10,\n",
        "                                       per_word_topics=True)"
      ]
    },
    {
      "cell_type": "code",
      "execution_count": 24,
      "metadata": {
        "colab": {
          "base_uri": "https://localhost:8080/"
        },
        "id": "aKL8VbY46a3D",
        "outputId": "28effb6f-a28c-41cc-8a43-a5c12b41c175"
      },
      "outputs": [
        {
          "name": "stdout",
          "output_type": "stream",
          "text": [
            "[(0,\n",
            "  '0.039*\"case\" + 0.019*\"dismiss\" + 0.016*\"fact\" + 0.016*\"idiot\" + '\n",
            "  '0.011*\"file\" + 0.011*\"court\" + 0.011*\"lp\" + 0.011*\"never\" + 0.011*\"reach\" + '\n",
            "  '0.011*\"house\"'),\n",
            " (1,\n",
            "  '0.062*\"case\" + 0.047*\"file\" + 0.027*\"know\" + 0.022*\"even\" + '\n",
            "  '0.016*\"philippine\" + 0.016*\"thank\" + 0.013*\"century\" + 0.012*\"trial\" + '\n",
            "  '0.012*\"marcose\" + 0.011*\"accusation\"'),\n",
            " (2,\n",
            "  '0.094*\"case\" + 0.027*\"file\" + 0.020*\"marcose\" + 0.020*\"dismiss\" + '\n",
            "  '0.017*\"court\" + 0.016*\"imelda\" + 0.013*\"even\" + 0.013*\"yet\" + '\n",
            "  '0.011*\"evidence\" + 0.011*\"thief\"'),\n",
            " (3,\n",
            "  '0.086*\"case\" + 0.029*\"marcose\" + 0.022*\"file\" + 0.022*\"wealth\" + '\n",
            "  '0.020*\"prove\" + 0.018*\"dismiss\" + 0.017*\"court\" + 0.014*\"guilty\" + '\n",
            "  '0.014*\"evidence\" + 0.013*\"imelda\"'),\n",
            " (4,\n",
            "  '0.037*\"case\" + 0.023*\"marcose\" + 0.023*\"even\" + 0.015*\"criminal\" + '\n",
            "  '0.015*\"show\" + 0.015*\"dismiss\" + 0.015*\"evidence\" + 0.015*\"proof\" + '\n",
            "  '0.008*\"corrupt\" + 0.008*\"marco\"'),\n",
            " (5,\n",
            "  '0.067*\"case\" + 0.042*\"dismiss\" + 0.039*\"evidence\" + 0.026*\"even\" + '\n",
            "  '0.026*\"marcose\" + 0.016*\"go\" + 0.014*\"trial\" + 0.014*\"yellow\" + '\n",
            "  '0.012*\"file\" + 0.011*\"century\"'),\n",
            " (6,\n",
            "  '0.020*\"case\" + 0.019*\"guilty\" + 0.019*\"allegation\" + 0.010*\"thief\" + '\n",
            "  '0.010*\"lie\" + 0.010*\"accusation\" + 0.010*\"former\" + 0.010*\"win\" + '\n",
            "  '0.010*\"hard\" + 0.010*\"still\"'),\n",
            " (7,\n",
            "  '0.037*\"proof\" + 0.029*\"case\" + 0.024*\"stupid\" + 0.020*\"imelda\" + '\n",
            "  '0.019*\"show\" + 0.019*\"yet\" + 0.019*\"steal\" + 0.018*\"come\" + '\n",
            "  '0.013*\"corruption\" + 0.013*\"marcose\"'),\n",
            " (8,\n",
            "  '0.075*\"case\" + 0.029*\"dismiss\" + 0.026*\"marcose\" + 0.023*\"trial\" + '\n",
            "  '0.021*\"file\" + 0.017*\"say\" + 0.015*\"also\" + 0.015*\"make\" + 0.015*\"century\" '\n",
            "  '+ 0.015*\"know\"'),\n",
            " (9,\n",
            "  '0.077*\"case\" + 0.028*\"court\" + 0.027*\"marcose\" + 0.019*\"steal\" + '\n",
            "  '0.017*\"aquino\" + 0.016*\"even\" + 0.016*\"year\" + 0.015*\"file\" + '\n",
            "  '0.014*\"already\" + 0.013*\"guilty\"')]\n"
          ]
        }
      ],
      "source": [
        "\n",
        "# Print the Keyword in the 10 topics\n",
        "pprint(lda_model.print_topics())\n",
        "doc_lda = lda_model[corpus]"
      ]
    },
    {
      "cell_type": "code",
      "execution_count": 25,
      "metadata": {
        "colab": {
          "base_uri": "https://localhost:8080/"
        },
        "id": "aSIWNOMA6bt5",
        "outputId": "4ccb1e84-dfef-4e81-cab2-d85bbcf7c455"
      },
      "outputs": [
        {
          "name": "stdout",
          "output_type": "stream",
          "text": [
            "Coherence Score:  0.2605941622247848\n"
          ]
        }
      ],
      "source": [
        "\n",
        "# Compute Coherence Score\n",
        "coherence_model_lda = CoherenceModel(model=lda_model, texts=data_lemmatized, dictionary=id2word, coherence='c_v')\n",
        "coherence_lda = coherence_model_lda.get_coherence()\n",
        "print('Coherence Score: ', coherence_lda)"
      ]
    },
    {
      "cell_type": "code",
      "execution_count": 26,
      "metadata": {
        "id": "SypaBjpA6cWD"
      },
      "outputs": [],
      "source": [
        "# supporting function\n",
        "def compute_coherence_values(corpus, dictionary, k, a, b):\n",
        "\n",
        "    lda_model = gensim.models.LdaMulticore(corpus=corpus,\n",
        "                                           id2word=dictionary,\n",
        "                                           num_topics=k,\n",
        "                                           random_state=100,\n",
        "                                           chunksize=100,\n",
        "                                           passes=10,\n",
        "                                           alpha=a,\n",
        "                                           eta=b)\n",
        "\n",
        "    coherence_model_lda = CoherenceModel(model=lda_model, texts=data_lemmatized, dictionary=id2word, coherence='c_v')\n",
        "\n",
        "    return coherence_model_lda.get_coherence()"
      ]
    },
    {
      "cell_type": "code",
      "execution_count": 27,
      "metadata": {
        "colab": {
          "base_uri": "https://localhost:8080/",
          "height": 390
        },
        "id": "xlOcpLiy6c7A",
        "outputId": "a202b87f-c22d-4861-c731-4f182051b1e6"
      },
      "outputs": [
        {
          "name": "stderr",
          "output_type": "stream",
          "text": [
            " 13%|█▎        | 69/540 [12:07<1:25:21, 10.87s/it]"
          ]
        }
      ],
      "source": [
        "\n",
        "grid = {}\n",
        "grid['Validation_Set'] = {}\n",
        "\n",
        "# Topics range\n",
        "min_topics = 2\n",
        "max_topics = 11\n",
        "step_size = 1\n",
        "topics_range = range(min_topics, max_topics, step_size)\n",
        "\n",
        "# Alpha parameter\n",
        "alpha = list(np.arange(0.01, 1, 0.3))\n",
        "alpha.append('symmetric')\n",
        "alpha.append('asymmetric')\n",
        "\n",
        "# Beta parameter\n",
        "beta = list(np.arange(0.01, 1, 0.3))\n",
        "beta.append('symmetric')\n",
        "\n",
        "# Validation sets\n",
        "num_of_docs = len(corpus)\n",
        "corpus_sets = [gensim.utils.ClippedCorpus(corpus, int(num_of_docs*0.75)),\n",
        "               corpus]\n",
        "\n",
        "corpus_title = ['75% Corpus', '100% Corpus']\n",
        "\n",
        "model_results = {'Validation_Set': [],\n",
        "                 'Topics': [],\n",
        "                 'Alpha': [],\n",
        "                 'Beta': [],\n",
        "                 'Coherence': []\n",
        "                }\n",
        "\n",
        "# Can take a long time to run\n",
        "if 1 == 1:\n",
        "    pbar = tqdm.tqdm(total=(len(beta)*len(alpha)*len(topics_range)*len(corpus_title)))\n",
        "\n",
        "    # iterate through validation corpuses\n",
        "    for i in range(len(corpus_sets)):\n",
        "        # iterate through number of topics\n",
        "        for k in topics_range:\n",
        "            # iterate through alpha values\n",
        "            for a in alpha:\n",
        "                # iterare through beta values\n",
        "                for b in beta:\n",
        "                    # get the coherence score for the given parameters\n",
        "                    cv = compute_coherence_values(corpus=corpus_sets[i], dictionary=id2word,\n",
        "                                                  k=k, a=a, b=b)\n",
        "                    # Save the model results\n",
        "                    model_results['Validation_Set'].append(corpus_title[i])\n",
        "                    model_results['Topics'].append(k)\n",
        "                    model_results['Alpha'].append(a)\n",
        "                    model_results['Beta'].append(b)\n",
        "                    model_results['Coherence'].append(cv)\n",
        "\n",
        "                    pbar.update(1)\n",
        "    pd.DataFrame(model_results).to_csv('./results/lda_tuning_results.csv', index=False)\n",
        "    pbar.close()"
      ]
    },
    {
      "cell_type": "code",
      "execution_count": null,
      "metadata": {
        "id": "ecVvK_dG6d6a"
      },
      "outputs": [
        {
          "ename": "OSError",
          "evalue": "Cannot save file into a non-existent directory: 'results'",
          "output_type": "error",
          "traceback": [
            "\u001b[1;31m---------------------------------------------------------------------------\u001b[0m",
            "\u001b[1;31mOSError\u001b[0m                                   Traceback (most recent call last)",
            "Cell \u001b[1;32mIn[28], line 1\u001b[0m\n\u001b[1;32m----> 1\u001b[0m pd\u001b[39m.\u001b[39;49mDataFrame(model_results)\u001b[39m.\u001b[39;49mto_csv(\u001b[39m'\u001b[39;49m\u001b[39m./results/lda_tuning_results.csv\u001b[39;49m\u001b[39m'\u001b[39;49m, index\u001b[39m=\u001b[39;49m\u001b[39mFalse\u001b[39;49;00m)\n",
            "File \u001b[1;32mc:\\Users\\Migui\\AppData\\Local\\Programs\\Python\\Python310\\lib\\site-packages\\pandas\\core\\generic.py:3772\u001b[0m, in \u001b[0;36mNDFrame.to_csv\u001b[1;34m(self, path_or_buf, sep, na_rep, float_format, columns, header, index, index_label, mode, encoding, compression, quoting, quotechar, lineterminator, chunksize, date_format, doublequote, escapechar, decimal, errors, storage_options)\u001b[0m\n\u001b[0;32m   3761\u001b[0m df \u001b[39m=\u001b[39m \u001b[39mself\u001b[39m \u001b[39mif\u001b[39;00m \u001b[39misinstance\u001b[39m(\u001b[39mself\u001b[39m, ABCDataFrame) \u001b[39melse\u001b[39;00m \u001b[39mself\u001b[39m\u001b[39m.\u001b[39mto_frame()\n\u001b[0;32m   3763\u001b[0m formatter \u001b[39m=\u001b[39m DataFrameFormatter(\n\u001b[0;32m   3764\u001b[0m     frame\u001b[39m=\u001b[39mdf,\n\u001b[0;32m   3765\u001b[0m     header\u001b[39m=\u001b[39mheader,\n\u001b[1;32m   (...)\u001b[0m\n\u001b[0;32m   3769\u001b[0m     decimal\u001b[39m=\u001b[39mdecimal,\n\u001b[0;32m   3770\u001b[0m )\n\u001b[1;32m-> 3772\u001b[0m \u001b[39mreturn\u001b[39;00m DataFrameRenderer(formatter)\u001b[39m.\u001b[39;49mto_csv(\n\u001b[0;32m   3773\u001b[0m     path_or_buf,\n\u001b[0;32m   3774\u001b[0m     lineterminator\u001b[39m=\u001b[39;49mlineterminator,\n\u001b[0;32m   3775\u001b[0m     sep\u001b[39m=\u001b[39;49msep,\n\u001b[0;32m   3776\u001b[0m     encoding\u001b[39m=\u001b[39;49mencoding,\n\u001b[0;32m   3777\u001b[0m     errors\u001b[39m=\u001b[39;49merrors,\n\u001b[0;32m   3778\u001b[0m     compression\u001b[39m=\u001b[39;49mcompression,\n\u001b[0;32m   3779\u001b[0m     quoting\u001b[39m=\u001b[39;49mquoting,\n\u001b[0;32m   3780\u001b[0m     columns\u001b[39m=\u001b[39;49mcolumns,\n\u001b[0;32m   3781\u001b[0m     index_label\u001b[39m=\u001b[39;49mindex_label,\n\u001b[0;32m   3782\u001b[0m     mode\u001b[39m=\u001b[39;49mmode,\n\u001b[0;32m   3783\u001b[0m     chunksize\u001b[39m=\u001b[39;49mchunksize,\n\u001b[0;32m   3784\u001b[0m     quotechar\u001b[39m=\u001b[39;49mquotechar,\n\u001b[0;32m   3785\u001b[0m     date_format\u001b[39m=\u001b[39;49mdate_format,\n\u001b[0;32m   3786\u001b[0m     doublequote\u001b[39m=\u001b[39;49mdoublequote,\n\u001b[0;32m   3787\u001b[0m     escapechar\u001b[39m=\u001b[39;49mescapechar,\n\u001b[0;32m   3788\u001b[0m     storage_options\u001b[39m=\u001b[39;49mstorage_options,\n\u001b[0;32m   3789\u001b[0m )\n",
            "File \u001b[1;32mc:\\Users\\Migui\\AppData\\Local\\Programs\\Python\\Python310\\lib\\site-packages\\pandas\\io\\formats\\format.py:1186\u001b[0m, in \u001b[0;36mDataFrameRenderer.to_csv\u001b[1;34m(self, path_or_buf, encoding, sep, columns, index_label, mode, compression, quoting, quotechar, lineterminator, chunksize, date_format, doublequote, escapechar, errors, storage_options)\u001b[0m\n\u001b[0;32m   1165\u001b[0m     created_buffer \u001b[39m=\u001b[39m \u001b[39mFalse\u001b[39;00m\n\u001b[0;32m   1167\u001b[0m csv_formatter \u001b[39m=\u001b[39m CSVFormatter(\n\u001b[0;32m   1168\u001b[0m     path_or_buf\u001b[39m=\u001b[39mpath_or_buf,\n\u001b[0;32m   1169\u001b[0m     lineterminator\u001b[39m=\u001b[39mlineterminator,\n\u001b[1;32m   (...)\u001b[0m\n\u001b[0;32m   1184\u001b[0m     formatter\u001b[39m=\u001b[39m\u001b[39mself\u001b[39m\u001b[39m.\u001b[39mfmt,\n\u001b[0;32m   1185\u001b[0m )\n\u001b[1;32m-> 1186\u001b[0m csv_formatter\u001b[39m.\u001b[39;49msave()\n\u001b[0;32m   1188\u001b[0m \u001b[39mif\u001b[39;00m created_buffer:\n\u001b[0;32m   1189\u001b[0m     \u001b[39massert\u001b[39;00m \u001b[39misinstance\u001b[39m(path_or_buf, StringIO)\n",
            "File \u001b[1;32mc:\\Users\\Migui\\AppData\\Local\\Programs\\Python\\Python310\\lib\\site-packages\\pandas\\io\\formats\\csvs.py:240\u001b[0m, in \u001b[0;36mCSVFormatter.save\u001b[1;34m(self)\u001b[0m\n\u001b[0;32m    236\u001b[0m \u001b[39m\u001b[39m\u001b[39m\"\"\"\u001b[39;00m\n\u001b[0;32m    237\u001b[0m \u001b[39mCreate the writer & save.\u001b[39;00m\n\u001b[0;32m    238\u001b[0m \u001b[39m\"\"\"\u001b[39;00m\n\u001b[0;32m    239\u001b[0m \u001b[39m# apply compression and byte/text conversion\u001b[39;00m\n\u001b[1;32m--> 240\u001b[0m \u001b[39mwith\u001b[39;00m get_handle(\n\u001b[0;32m    241\u001b[0m     \u001b[39mself\u001b[39;49m\u001b[39m.\u001b[39;49mfilepath_or_buffer,\n\u001b[0;32m    242\u001b[0m     \u001b[39mself\u001b[39;49m\u001b[39m.\u001b[39;49mmode,\n\u001b[0;32m    243\u001b[0m     encoding\u001b[39m=\u001b[39;49m\u001b[39mself\u001b[39;49m\u001b[39m.\u001b[39;49mencoding,\n\u001b[0;32m    244\u001b[0m     errors\u001b[39m=\u001b[39;49m\u001b[39mself\u001b[39;49m\u001b[39m.\u001b[39;49merrors,\n\u001b[0;32m    245\u001b[0m     compression\u001b[39m=\u001b[39;49m\u001b[39mself\u001b[39;49m\u001b[39m.\u001b[39;49mcompression,\n\u001b[0;32m    246\u001b[0m     storage_options\u001b[39m=\u001b[39;49m\u001b[39mself\u001b[39;49m\u001b[39m.\u001b[39;49mstorage_options,\n\u001b[0;32m    247\u001b[0m ) \u001b[39mas\u001b[39;00m handles:\n\u001b[0;32m    248\u001b[0m     \u001b[39m# Note: self.encoding is irrelevant here\u001b[39;00m\n\u001b[0;32m    249\u001b[0m     \u001b[39mself\u001b[39m\u001b[39m.\u001b[39mwriter \u001b[39m=\u001b[39m csvlib\u001b[39m.\u001b[39mwriter(\n\u001b[0;32m    250\u001b[0m         handles\u001b[39m.\u001b[39mhandle,\n\u001b[0;32m    251\u001b[0m         lineterminator\u001b[39m=\u001b[39m\u001b[39mself\u001b[39m\u001b[39m.\u001b[39mlineterminator,\n\u001b[1;32m   (...)\u001b[0m\n\u001b[0;32m    256\u001b[0m         quotechar\u001b[39m=\u001b[39m\u001b[39mself\u001b[39m\u001b[39m.\u001b[39mquotechar,\n\u001b[0;32m    257\u001b[0m     )\n\u001b[0;32m    259\u001b[0m     \u001b[39mself\u001b[39m\u001b[39m.\u001b[39m_save()\n",
            "File \u001b[1;32mc:\\Users\\Migui\\AppData\\Local\\Programs\\Python\\Python310\\lib\\site-packages\\pandas\\io\\common.py:737\u001b[0m, in \u001b[0;36mget_handle\u001b[1;34m(path_or_buf, mode, encoding, compression, memory_map, is_text, errors, storage_options)\u001b[0m\n\u001b[0;32m    735\u001b[0m \u001b[39m# Only for write methods\u001b[39;00m\n\u001b[0;32m    736\u001b[0m \u001b[39mif\u001b[39;00m \u001b[39m\"\u001b[39m\u001b[39mr\u001b[39m\u001b[39m\"\u001b[39m \u001b[39mnot\u001b[39;00m \u001b[39min\u001b[39;00m mode \u001b[39mand\u001b[39;00m is_path:\n\u001b[1;32m--> 737\u001b[0m     check_parent_directory(\u001b[39mstr\u001b[39;49m(handle))\n\u001b[0;32m    739\u001b[0m \u001b[39mif\u001b[39;00m compression:\n\u001b[0;32m    740\u001b[0m     \u001b[39mif\u001b[39;00m compression \u001b[39m!=\u001b[39m \u001b[39m\"\u001b[39m\u001b[39mzstd\u001b[39m\u001b[39m\"\u001b[39m:\n\u001b[0;32m    741\u001b[0m         \u001b[39m# compression libraries do not like an explicit text-mode\u001b[39;00m\n",
            "File \u001b[1;32mc:\\Users\\Migui\\AppData\\Local\\Programs\\Python\\Python310\\lib\\site-packages\\pandas\\io\\common.py:600\u001b[0m, in \u001b[0;36mcheck_parent_directory\u001b[1;34m(path)\u001b[0m\n\u001b[0;32m    598\u001b[0m parent \u001b[39m=\u001b[39m Path(path)\u001b[39m.\u001b[39mparent\n\u001b[0;32m    599\u001b[0m \u001b[39mif\u001b[39;00m \u001b[39mnot\u001b[39;00m parent\u001b[39m.\u001b[39mis_dir():\n\u001b[1;32m--> 600\u001b[0m     \u001b[39mraise\u001b[39;00m \u001b[39mOSError\u001b[39;00m(\u001b[39mrf\u001b[39m\u001b[39m\"\u001b[39m\u001b[39mCannot save file into a non-existent directory: \u001b[39m\u001b[39m'\u001b[39m\u001b[39m{\u001b[39;00mparent\u001b[39m}\u001b[39;00m\u001b[39m'\u001b[39m\u001b[39m\"\u001b[39m)\n",
            "\u001b[1;31mOSError\u001b[0m: Cannot save file into a non-existent directory: 'results'"
          ]
        }
      ],
      "source": [
        "pd.DataFrame(model_results).to_csv('./results/lda_tuning_results.csv', index=False)"
      ]
    }
  ],
  "metadata": {
    "colab": {
      "provenance": []
    },
    "kernelspec": {
      "display_name": "Python 3",
      "name": "python3"
    },
    "language_info": {
      "codemirror_mode": {
        "name": "ipython",
        "version": 3
      },
      "file_extension": ".py",
      "mimetype": "text/x-python",
      "name": "python",
      "nbconvert_exporter": "python",
      "pygments_lexer": "ipython3",
      "version": "3.11.4"
    }
  },
  "nbformat": 4,
  "nbformat_minor": 0
}

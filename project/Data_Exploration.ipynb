{
  "cells": [
    {
      "attachments": {},
      "cell_type": "markdown",
      "metadata": {},
      "source": [
        "This notebook contains the code used in performing data exploration for the project."
      ]
    },
    {
      "cell_type": "code",
      "execution_count": 10,
      "metadata": {},
      "outputs": [],
      "source": [
        "#Import statements. Run this cell first.\n",
        "import pandas as pd\n",
        "import numpy as np\n",
        "import snscrape.modules.twitter as snt\n",
        "import matplotlib.pyplot as plt\n",
        "import matplotlib.ticker as ticker\n",
        "import os, re, csv, pickle, sklearn, tqdm, spacy, nltk, gensim\n",
        "from datetime import datetime\n",
        "from scipy import stats\n",
        "from nltk.corpus import stopwords\n",
        "import gensim.corpora as corpora\n",
        "from gensim.models import CoherenceModel\n",
        "from gensim.utils import simple_preprocess\n",
        "from pprint import pprint\n",
        "\n",
        "#nltk.download('stopwords')"
      ]
    },
    {
      "cell_type": "code",
      "execution_count": 11,
      "metadata": {
        "id": "UNWU8ATYgtJj"
      },
      "outputs": [],
      "source": [
        "def load_csv():\n",
        "    columns = [\"Tweet URL\",\"Keywords\",\"Account handle\",\"Account type\",\"Joined\",\n",
        "               \"Following\",\"Followers\",\"Tweet Translated\",\"Tweet NLP\",\"Tweet Type\",\n",
        "               \"Mentions Aquinos / Liberal Party\",\"Mentions Aquinos / Liberal Party Negatively\",\n",
        "               \"Date posted\",\"Likes\",\"Replies\",\"Retweets\",\"Quote Tweets\",\"Retweets + Quote Tweets\"]\n",
        "    df = pd.read_csv(\"Dataset - Group 57 - Data.csv\")[columns].dropna(subset=[\"Tweet URL\"])\n",
        "    return df"
      ]
    },
    {
      "cell_type": "code",
      "execution_count": 12,
      "metadata": {
        "colab": {
          "base_uri": "https://localhost:8080/"
        },
        "id": "g3nbfq5rifOC",
        "outputId": "09fcc29d-a33b-4479-aa66-ddf2f1306cff"
      },
      "outputs": [
        {
          "name": "stdout",
          "output_type": "stream",
          "text": [
            "Following - all\n",
            "Size: 170\n",
            "Mean: 396.629412\n",
            "Median: 96.0\n",
            "Mode: ModeResult(mode=array([4], dtype=int64), count=array([4]))\n",
            "Range: [0],[6455]\n",
            "Sample Std. Dev: 856.795294\n",
            "\n",
            "Following - reply\n",
            "Size: 149\n",
            "Mean: 402.731544\n",
            "Median: 96.0\n",
            "Mode: ModeResult(mode=array([4], dtype=int64), count=array([4]))\n",
            "Range: [0],[6455]\n",
            "Sample Std. Dev: 883.730404\n",
            "\n",
            "Following - non-reply\n",
            "Size: 21\n",
            "Mean: 353.333333\n",
            "Median: 108.0\n",
            "Mode: ModeResult(mode=array([7], dtype=int64), count=array([2]))\n",
            "Range: [7],[2636]\n",
            "Sample Std. Dev: 649.335147\n",
            "\n",
            "\n",
            "\n",
            "Followers - all\n",
            "Size: 170\n",
            "Mean: 435.841176\n",
            "Median: 62.5\n",
            "Mode: ModeResult(mode=array([0], dtype=int64), count=array([11]))\n",
            "Range: [0],[10902]\n",
            "Sample Std. Dev: 1262.19041\n",
            "\n",
            "Followers - reply\n",
            "Size: 149\n",
            "Mean: 389.174497\n",
            "Median: 47.0\n",
            "Mode: ModeResult(mode=array([0], dtype=int64), count=array([11]))\n",
            "Range: [0],[8390]\n",
            "Sample Std. Dev: 1007.118439\n",
            "\n",
            "Followers - non-reply\n",
            "Size: 21\n",
            "Mean: 766.952381\n",
            "Median: 92.0\n",
            "Mode: ModeResult(mode=array([3], dtype=int64), count=array([2]))\n",
            "Range: [3],[10902]\n",
            "Sample Std. Dev: 2413.46938\n",
            "\n",
            "\n",
            "\n",
            "Mentions Aquinos / Liberal Party - all\n",
            "Size: 170\n",
            "Mean: 0.305882\n",
            "Median: 0.0\n",
            "Mode: ModeResult(mode=array([0], dtype=int64), count=array([118]))\n",
            "Range: [0],[1]\n",
            "Sample Std. Dev: 0.462141\n",
            "\n",
            "Mentions Aquinos / Liberal Party - reply\n",
            "Size: 149\n",
            "Mean: 0.33557\n",
            "Median: 0.0\n",
            "Mode: ModeResult(mode=array([0], dtype=int64), count=array([99]))\n",
            "Range: [0],[1]\n",
            "Sample Std. Dev: 0.473782\n",
            "\n",
            "Mentions Aquinos / Liberal Party - non-reply\n",
            "Size: 21\n",
            "Mean: 0.095238\n",
            "Median: 0.0\n",
            "Mode: ModeResult(mode=array([0], dtype=int64), count=array([19]))\n",
            "Range: [0],[1]\n",
            "Sample Std. Dev: 0.300793\n",
            "\n",
            "\n",
            "\n",
            "Mentions Aquinos / Liberal Party Negatively - all\n",
            "Size: 170\n",
            "Mean: 0.223529\n",
            "Median: 0.0\n",
            "Mode: ModeResult(mode=array([0], dtype=int64), count=array([132]))\n",
            "Range: [0],[1]\n",
            "Sample Std. Dev: 0.417841\n",
            "\n",
            "Mentions Aquinos / Liberal Party Negatively - reply\n",
            "Size: 149\n",
            "Mean: 0.241611\n",
            "Median: 0.0\n",
            "Mode: ModeResult(mode=array([0], dtype=int64), count=array([113]))\n",
            "Range: [0],[1]\n",
            "Sample Std. Dev: 0.429503\n",
            "\n",
            "Mentions Aquinos / Liberal Party Negatively - non-reply\n",
            "Size: 21\n",
            "Mean: 0.095238\n",
            "Median: 0.0\n",
            "Mode: ModeResult(mode=array([0], dtype=int64), count=array([19]))\n",
            "Range: [0],[1]\n",
            "Sample Std. Dev: 0.300793\n",
            "\n",
            "\n",
            "\n",
            "Likes - all\n",
            "Size: 170\n",
            "Mean: 0.988235\n",
            "Median: 0.0\n",
            "Mode: ModeResult(mode=array([0], dtype=int64), count=array([108]))\n",
            "Range: [0],[16]\n",
            "Sample Std. Dev: 2.200022\n",
            "\n",
            "Likes - reply\n",
            "Size: 149\n",
            "Mean: 1.026846\n",
            "Median: 0.0\n",
            "Mode: ModeResult(mode=array([0], dtype=int64), count=array([94]))\n",
            "Range: [0],[16]\n",
            "Sample Std. Dev: 2.29849\n",
            "\n",
            "Likes - non-reply\n",
            "Size: 21\n",
            "Mean: 0.714286\n",
            "Median: 0.0\n",
            "Mode: ModeResult(mode=array([0], dtype=int64), count=array([14]))\n",
            "Range: [0],[5]\n",
            "Sample Std. Dev: 1.309307\n",
            "\n",
            "\n",
            "\n",
            "Replies - all\n",
            "Size: 170\n",
            "Mean: 0.705882\n",
            "Median: 0.0\n",
            "Mode: ModeResult(mode=array([0], dtype=int64), count=array([96]))\n",
            "Range: [0],[7]\n",
            "Sample Std. Dev: 1.144304\n",
            "\n",
            "Replies - reply\n",
            "Size: 149\n",
            "Mean: 0.791946\n",
            "Median: 0.0\n",
            "Mode: ModeResult(mode=array([0], dtype=int64), count=array([77]))\n",
            "Range: [0],[7]\n",
            "Sample Std. Dev: 1.192744\n",
            "\n",
            "Replies - non-reply\n",
            "Size: 21\n",
            "Mean: 0.095238\n",
            "Median: 0.0\n",
            "Mode: ModeResult(mode=array([0], dtype=int64), count=array([19]))\n",
            "Range: [0],[1]\n",
            "Sample Std. Dev: 0.300793\n",
            "\n",
            "\n",
            "\n",
            "Retweets - all\n",
            "Size: 170\n",
            "Mean: 0.182353\n",
            "Median: 0.0\n",
            "Mode: ModeResult(mode=array([0], dtype=int64), count=array([152]))\n",
            "Range: [0],[7]\n",
            "Sample Std. Dev: 0.710642\n",
            "\n",
            "Retweets - reply\n",
            "Size: 149\n",
            "Mean: 0.194631\n",
            "Median: 0.0\n",
            "Mode: ModeResult(mode=array([0], dtype=int64), count=array([133]))\n",
            "Range: [0],[7]\n",
            "Sample Std. Dev: 0.750476\n",
            "\n",
            "Retweets - non-reply\n",
            "Size: 21\n",
            "Mean: 0.095238\n",
            "Median: 0.0\n",
            "Mode: ModeResult(mode=array([0], dtype=int64), count=array([19]))\n",
            "Range: [0],[1]\n",
            "Sample Std. Dev: 0.300793\n",
            "\n",
            "\n",
            "\n",
            "Quote Tweets - all\n",
            "Size: 170\n",
            "Mean: 0.064706\n",
            "Median: 0.0\n",
            "Mode: ModeResult(mode=array([0], dtype=int64), count=array([163]))\n",
            "Range: [0],[5]\n",
            "Sample Std. Dev: 0.423344\n",
            "\n",
            "Quote Tweets - reply\n",
            "Size: 149\n",
            "Mean: 0.067114\n",
            "Median: 0.0\n",
            "Mode: ModeResult(mode=array([0], dtype=int64), count=array([143]))\n",
            "Range: [0],[5]\n",
            "Sample Std. Dev: 0.445161\n",
            "\n",
            "Quote Tweets - non-reply\n",
            "Size: 21\n",
            "Mean: 0.047619\n",
            "Median: 0.0\n",
            "Mode: ModeResult(mode=array([0], dtype=int64), count=array([20]))\n",
            "Range: [0],[1]\n",
            "Sample Std. Dev: 0.218218\n",
            "\n",
            "\n",
            "\n",
            "Retweets + Quote Tweets - all\n",
            "Size: 170\n",
            "Mean: 0.247059\n",
            "Median: 0.0\n",
            "Mode: ModeResult(mode=array([0], dtype=int64), count=array([147]))\n",
            "Range: [0],[7]\n",
            "Sample Std. Dev: 0.841327\n",
            "\n",
            "Retweets + Quote Tweets - reply\n",
            "Size: 149\n",
            "Mean: 0.261745\n",
            "Median: 0.0\n",
            "Mode: ModeResult(mode=array([0], dtype=int64), count=array([129]))\n",
            "Range: [0],[7]\n",
            "Sample Std. Dev: 0.888333\n",
            "\n",
            "Retweets + Quote Tweets - non-reply\n",
            "Size: 21\n",
            "Mean: 0.142857\n",
            "Median: 0.0\n",
            "Mode: ModeResult(mode=array([0], dtype=int64), count=array([18]))\n",
            "Range: [0],[1]\n",
            "Sample Std. Dev: 0.358569\n",
            "\n",
            "\n",
            "\n"
          ]
        },
        {
          "name": "stderr",
          "output_type": "stream",
          "text": [
            "C:\\Users\\Migui\\AppData\\Local\\Temp\\ipykernel_260\\2497891256.py:11: FutureWarning: Unlike other reduction functions (e.g. `skew`, `kurtosis`), the default behavior of `mode` typically preserves the axis it acts along. In SciPy 1.11.0, this behavior will change: the default value of `keepdims` will become False, the `axis` over which the statistic is taken will be eliminated, and the value None will no longer be accepted. Set `keepdims` to True or False to avoid this warning.\n",
            "  print(f\"Mode: {stats.mode(ordf)}\")\n",
            "C:\\Users\\Migui\\AppData\\Local\\Temp\\ipykernel_260\\2497891256.py:19: FutureWarning: Unlike other reduction functions (e.g. `skew`, `kurtosis`), the default behavior of `mode` typically preserves the axis it acts along. In SciPy 1.11.0, this behavior will change: the default value of `keepdims` will become False, the `axis` over which the statistic is taken will be eliminated, and the value None will no longer be accepted. Set `keepdims` to True or False to avoid this warning.\n",
            "  print(f\"Mode: {stats.mode(ordf2)}\")\n",
            "C:\\Users\\Migui\\AppData\\Local\\Temp\\ipykernel_260\\2497891256.py:27: FutureWarning: Unlike other reduction functions (e.g. `skew`, `kurtosis`), the default behavior of `mode` typically preserves the axis it acts along. In SciPy 1.11.0, this behavior will change: the default value of `keepdims` will become False, the `axis` over which the statistic is taken will be eliminated, and the value None will no longer be accepted. Set `keepdims` to True or False to avoid this warning.\n",
            "  print(f\"Mode: {stats.mode(ordf3)}\")\n"
          ]
        }
      ],
      "source": [
        "labels =     [\"Following\",\"Followers\", \"Mentions Aquinos / Liberal Party\",\"Mentions Aquinos / Liberal Party Negatively\",\n",
        "               \"Likes\",\"Replies\",\"Retweets\",\"Quote Tweets\",\"Retweets + Quote Tweets\"]\n",
        "df = load_csv()\n",
        "###\n",
        "for label in labels:\n",
        "    print(f\"{label} - all\")\n",
        "    ordf = df[label].sort_values().to_numpy()[:170]\n",
        "    print(f\"Size: {ordf.size}\")\n",
        "    print(f\"Mean: {round(np.mean(ordf),6)}\")\n",
        "    print(f\"Median: {round(np.median(ordf),6)}\")\n",
        "    print(f\"Mode: {stats.mode(ordf)}\")\n",
        "    print(f\"Range: [{np.min(ordf)}],[{np.max(ordf)}]\")\n",
        "    print(f\"Sample Std. Dev: {round(np.std(ordf,ddof=1),6)}\")\n",
        "    print(f\"\\n{label} - reply\")\n",
        "    ordf2 = df[df['Tweet Type'].str.contains(\"Reply\",na=False)][label].sort_values().to_numpy()[:170]\n",
        "    print(f\"Size: {ordf2.size}\")\n",
        "    print(f\"Mean: {round(np.mean(ordf2),6)}\")\n",
        "    print(f\"Median: {round(np.median(ordf2),6)}\")\n",
        "    print(f\"Mode: {stats.mode(ordf2)}\")\n",
        "    print(f\"Range: [{np.min(ordf2)}],[{np.max(ordf2)}]\")\n",
        "    print(f\"Sample Std. Dev: {round(np.std(ordf2,ddof=1),6)}\")\n",
        "    print(f\"\\n{label} - non-reply\")\n",
        "    ordf3 = df[~df['Tweet Type'].str.contains(\"Reply\",na=False)][label].sort_values().to_numpy()[:150]\n",
        "    print(f\"Size: {ordf3.size}\")\n",
        "    print(f\"Mean: {round(np.mean(ordf3),6)}\")\n",
        "    print(f\"Median: {round(np.median(ordf3),6)}\")\n",
        "    print(f\"Mode: {stats.mode(ordf3)}\")\n",
        "    print(f\"Range: [{np.min(ordf3)}],[{np.max(ordf3)}]\")\n",
        "    print(f\"Sample Std. Dev: {round(np.std(ordf3,ddof=1),6)}\")\n",
        "    print(\"\\n\\n\")\n",
        "###"
      ]
    },
    {
      "cell_type": "code",
      "execution_count": 13,
      "metadata": {
        "colab": {
          "base_uri": "https://localhost:8080/"
        },
        "id": "6W6xLXa7ikTI",
        "outputId": "1665fb61-4aa3-44fb-c308-65d1cf1b29c2"
      },
      "outputs": [
        {
          "name": "stdout",
          "output_type": "stream",
          "text": [
            "Chi-Square Test: Critical Value = 3.841, alpha = 0.05, df = 1\n",
            "Chi-Square: Mentions Liberal Party\n",
            "Yes: 52 | No: 118\n",
            "Power_divergenceResult(statistic=25.623529411764707, pvalue=4.149486677168825e-07)\n",
            "Chi-Square: Within BBM Campaign Period\n",
            "Yes: 103 | No: 67\n",
            "Power_divergenceResult(statistic=522.2118506493507, pvalue=1.397418341452514e-115)\n"
          ]
        }
      ],
      "source": [
        "df = load_csv()\n",
        "#classify categories\n",
        "libcat = [df['Mentions Aquinos / Liberal Party'][df['Mentions Aquinos / Liberal Party']==True].size,df['Mentions Aquinos / Liberal Party'][df['Mentions Aquinos / Liberal Party']==False].size]\n",
        "date_posted = pd.to_datetime(df[\"Date posted\"].str.strip(),format='%d/%m/%y %H:%M')\n",
        "date_range = pd.to_datetime(pd.DataFrame({'year':[2021,2022],'month':[10,5],'day':[1,31]}))\n",
        "mask = (date_posted >= date_range[0]) & (date_posted <= date_range[1])\n",
        "bbmcat = [date_posted.loc[mask].size,date_posted.size-date_posted.loc[mask].size]\n",
        "print(\"Chi-Square Test: Critical Value = 3.841, alpha = 0.05, df = 1\")\n",
        "print(\"Chi-Square: Mentions Liberal Party\")\n",
        "print(f\"Yes: {libcat[0]} | No: {libcat[1]}\")\n",
        "print(stats.chisquare(f_obs = libcat,f_exp=[85,85]))\n",
        "print(\"Chi-Square: Within BBM Campaign Period\")\n",
        "print(f\"Yes: {bbmcat[0]} | No: {bbmcat[1]}\")\n",
        "print(stats.chisquare(f_obs = [103,67],f_exp=[16,154]))"
      ]
    },
    {
      "cell_type": "code",
      "execution_count": 14,
      "metadata": {
        "colab": {
          "base_uri": "https://localhost:8080/",
          "height": 559
        },
        "id": "-gQqfa2jROqM",
        "outputId": "7ddfcfa3-65cf-4585-b16a-152fb378e162"
      },
      "outputs": [
        {
          "name": "stdout",
          "output_type": "stream",
          "text": [
            "[0, 52, 93, 2, 0, 18, 69, 12, 90, 0, 29, 94, 83, 3, 29, 13, 58, 60, 1, 0, 9, 81, 142, 0, 150, 4, 0, 1, 0, 6, 5, 8, 8, 0, 93, 119, 83, 7, 58, 87, 49, 0, 82, 0, 0, 4, 8, 8, 0, 1, 3, 5, 103, 128, 1, 5, 1, 51, 7, 51, 8, 78, 86, 146, 52, 2, 2, 0, 3, 0, 3, 2, 1, 48, 2, 7, 50, 2, 1, 64, 2, 8, 10, 81, 7, 41, 4, 0, 3, 10, 86, 55, 43, 6, 117, 71, 35, 15, 15, 44, 4, 26, 96, 95, 7, 7, 16, 0, 1, 146, 81, 3, 86, 16, 40, 28, 3, 120, 18, 70, 6, 96, 3, 43, 26, 4, 20, 8, 1, 65, 21, 21, 3, 1, 89, 7, 7, 34, 3, 45, 175, 15, 125, 67, 88, 82, 0, 13, 8, 5, 9, 11, 16, 77, 0, 7, 7, 5, 1, 14, 12, 3, 10, 65, 3, 143, 120, 119, 1, 0]\n",
            "10.0\n"
          ]
        },
        {
          "name": "stderr",
          "output_type": "stream",
          "text": [
            "No artists with labels found to put in legend.  Note that artists whose label start with an underscore are ignored when legend() is called with no argument.\n"
          ]
        },
        {
          "data": {
            "image/png": "[encoded data removed]",
            "text/plain": [
              "<Figure size 640x480 with 1 Axes>"
            ]
          },
          "metadata": {},
          "output_type": "display_data"
        }
      ],
      "source": [
        "df = load_csv()\n",
        "df = df.dropna(subset=[\"Tweet URL\"])\n",
        "\n",
        "#use this to filter Aquino/LP mentions\n",
        "#df = df[df['Mentions Aquinos / Liberal Party']==True]\n",
        "\n",
        "#get the date parameters\n",
        "df[\"Joined\"] = pd.to_datetime(df[\"Joined\"].str.strip(),format='%m/%y')\n",
        "df[\"Joined\"] = df[\"Joined\"].dt.to_period('m')\n",
        "df[\"Date posted\"] = pd.to_datetime(df[\"Date posted\"].str.strip(),format='%d/%m/%y %H:%M')\n",
        "df[\"Date posted\"] = df[\"Date posted\"].dt.to_period('m')\n",
        "\n",
        "#get the time from last post to account creation\n",
        "date_diff = (df[\"Date posted\"].astype('int64').astype(int) - df[\"Joined\"].astype('int64').astype(int)).tolist()\n",
        "print(date_diff)\n",
        "\n",
        "fig, axes = plt.subplots(nrows=1, ncols=1, sharex=True, sharey=True)\n",
        "#plot dates\n",
        "#'''\n",
        "plt.xlabel(\"Months\")\n",
        "plt.ylabel(\"Accounts\")\n",
        "diff_bins = np.arange(0,max(date_diff)+12,12)\n",
        "plt.hist(date_diff,bins=diff_bins,color=\"blue\")\n",
        "print(np.median(date_diff))\n",
        "plt.xticks(diff_bins,rotation=75)\n",
        "plt.axvline(np.median(date_diff),alpha=0.5,color='#ff000d') #This marks the mean of the account ages relative to the date that the tweet was posted. Do not change the coordinates.\n",
        "axes.annotate('Median Age of Accounts (10 months)', xy=(np.median(date_diff), 20), xytext=(10, 10),textcoords='offset points', arrowprops=dict(arrowstyle='->'))\n",
        "plt.legend()\n",
        "plt.title(\"Months Since Account Creation To Tweet\")\n",
        "plt.show()\n"
      ]
    },
    {
      "cell_type": "code",
      "execution_count": 15,
      "metadata": {
        "colab": {
          "base_uri": "https://localhost:8080/",
          "height": 192
        },
        "id": "IfxHxTKcgwzT",
        "outputId": "f845c00f-e2de-436d-a55f-6f89a035fcac"
      },
      "outputs": [
        {
          "name": "stdout",
          "output_type": "stream",
          "text": [
            "[Period('2016-01', 'M'), Period('2022-12', 'M')]\n",
            "Joined\n",
            "2007-04    1\n",
            "2009-02    1\n",
            "2009-03    1\n",
            "2009-07    3\n",
            "2009-09    1\n",
            "          ..\n",
            "2022-02    4\n",
            "2022-03    2\n",
            "2022-04    1\n",
            "2022-05    2\n",
            "2022-08    1\n",
            "Freq: M, Name: count, Length: 86, dtype: int64\n",
            "Date posted\n",
            "2007-01    NaN\n",
            "2007-02    NaN\n",
            "2007-03    NaN\n",
            "2007-04    NaN\n",
            "2007-05    NaN\n",
            "          ... \n",
            "2022-08    2.0\n",
            "2022-09    3.0\n",
            "2022-10    2.0\n",
            "2022-11    NaN\n",
            "2022-12    1.0\n",
            "Name: count, Length: 192, dtype: float64\n"
          ]
        },
        {
          "data": {
            "image/png": "[encoded data removed]",
            "text/plain": [
              "<Figure size 640x480 with 1 Axes>"
            ]
          },
          "metadata": {},
          "output_type": "display_data"
        }
      ],
      "source": [
        "df = load_csv()\n",
        "df = df.dropna(subset=[\"Tweet URL\"])\n",
        "\n",
        "#use this to filter Aquino/LP mentions\n",
        "#df = df[df['Mentions Aquinos / Liberal Party']==True]\n",
        "\n",
        "#get the date parameters\n",
        "df[\"Joined\"] = pd.to_datetime(df[\"Joined\"].str.strip(),format='%m/%y')\n",
        "df[\"Joined\"] = df[\"Joined\"].dt.to_period('m')\n",
        "df[\"Date posted\"] = pd.to_datetime(df[\"Date posted\"].str.strip(),format='%d/%m/%y %H:%M')\n",
        "df[\"Date posted\"] = df[\"Date posted\"].dt.to_period('m')\n",
        "\n",
        "date_joined = df[\"Joined\"].value_counts().sort_index()\n",
        "date_posted = df[\"Date posted\"].value_counts().sort_index()\n",
        "month_range = [min(df[\"Joined\"].min(),df[\"Date posted\"].min()).asfreq('y','start').asfreq('m','start'),max(df[\"Joined\"].max(),df[\"Date posted\"].max()).asfreq('y','end').asfreq('m','end')]\n",
        "print([(df[\"Date posted\"].min()).asfreq('y','start').asfreq('m','start'),(df[\"Date posted\"].max()).asfreq('y','end').asfreq('m','end')])\n",
        "\n",
        "month_index = pd.period_range(start=month_range[0], end=month_range[1]).to_series().astype(str).tolist()\n",
        "date_labels = ['']*len(month_index)\n",
        "date_labels[::12] = [date for date in month_index[::12]]\n",
        "print(date_joined)\n",
        "date_joined = date_joined.reindex(month_index).sort_index()#.to_numpy(na_value=0)\n",
        "date_posted = date_posted.reindex(month_index).sort_index()#.to_numpy(na_value=0)\n",
        "\n",
        "date_joined.to_csv(\"aa.csv\")\n",
        "print(date_posted)\n",
        "fig, axes = plt.subplots(nrows=1, ncols=1, sharex=True, sharey=True)\n",
        "#plot dates\n",
        "plt.xlabel(\"Year-Month\")\n",
        "plt.ylabel(\"Number of Tweets/Accounts\")\n",
        "plt.bar(month_index[::-1],date_joined[::-1],color=\"blue\",label=\"Date Joined\")\n",
        "plt.bar(month_index[::-1],date_posted[::-1],color=\"red\",label=\"Date Posted\")\n",
        "plt.xticks(date_labels[::-1],rotation=75)\n",
        "plt.axvspan(6,8,alpha=0.5,color='#9CAFB7') #This marks the presidential elections period. Do not change the coordinates.\n",
        "plt.axvspan(13,15,alpha=0.5,color='#9CAFB7') #This marks the start of the BBM presidential campaign. Do not change the coordinates.\n",
        "axes.annotate('2022 Presidential Elections campaign period', xy=(6, 15), xytext=(10, 10),textcoords='offset points', arrowprops=dict(arrowstyle='->'))\n",
        "axes.annotate('BBM Files for Presidential Candidacy', xy=(14, 10), xytext=(10, 10),textcoords='offset points', arrowprops=dict(arrowstyle='->'))\n",
        "plt.legend()\n",
        "plt.title(\"Date of Account and Post Creation\")\n",
        "plt.legend()\n",
        "plt.show()\n"
      ]
    },
    {
      "cell_type": "code",
      "execution_count": 16,
      "metadata": {
        "colab": {
          "base_uri": "https://localhost:8080/",
          "height": 456
        },
        "id": "DonVq4vRC8H9",
        "outputId": "896874bd-bf6a-4744-feae-eac7a77dee0c"
      },
      "outputs": [
        {
          "data": {
            "image/png": "[encoded data removed]",
            "text/plain": [
              "<Figure size 640x480 with 1 Axes>"
            ]
          },
          "metadata": {},
          "output_type": "display_data"
        }
      ],
      "source": [
        "df = load_csv()\n",
        "df = df.dropna(subset=[\"Tweet URL\"])\n",
        "\n",
        "\n",
        "#get the tweet parameters. retweets_count also includes quote tweets\n",
        "likes_count = df[\"Likes\"].value_counts().sort_index()\n",
        "replies_count = df[\"Replies\"].value_counts().sort_index()\n",
        "retweets_count = df[\"Retweets + Quote Tweets\"].value_counts().sort_index()\n",
        "stats_range = [int(min(df[\"Likes\"].min(),df[\"Replies\"].min(),df[\"Retweets + Quote Tweets\"].min())),int(max(df[\"Likes\"].max(),df[\"Replies\"].max(),df[\"Retweets + Quote Tweets\"].max()))]\n",
        "stats_index = [i for i in range(stats_range[0],stats_range[1]+1)]\n",
        "likes_count = likes_count.reindex(stats_index).sort_index()#.to_numpy(na_value=0)\n",
        "replies_count = replies_count.reindex(stats_index).sort_index()#.to_numpy(na_value=0)\n",
        "retweets_count = retweets_count.reindex(stats_index).sort_index()#.to_numpy(na_value=0)\n",
        "\n",
        "#get the number of tweets from the same user\n",
        "tweets_count = df[\"Account handle\"].value_counts().value_counts().sort_index()\n",
        "\n",
        "\n",
        "\n",
        "\n",
        "df_stats = pd.concat([likes_count,replies_count,retweets_count],axis=1)\n",
        "df_stats.plot.bar()\n",
        "plt.xlabel(\"No. of Tweets\")\n",
        "plt.ylabel(\"Actions\")\n",
        "\n",
        "plt.title(\"Tweet Engagement Values\")\n",
        "\n",
        "\n",
        "plt.show()\n"
      ]
    },
    {
      "attachments": {},
      "cell_type": "markdown",
      "metadata": {
        "id": "adi51nnb5_pf"
      },
      "source": [
        "### LDA Analysis"
      ]
    },
    {
      "cell_type": "code",
      "execution_count": 17,
      "metadata": {
        "colab": {
          "base_uri": "https://localhost:8080/"
        },
        "id": "tHDkFDKi6DQS",
        "outputId": "b2896fc6-0f1c-43e7-eb18-4beb1e74e754"
      },
      "outputs": [
        {
          "data": {
            "text/plain": [
              "(170, 34)"
            ]
          },
          "execution_count": 17,
          "metadata": {},
          "output_type": "execute_result"
        }
      ],
      "source": [
        "\n",
        "# Read data into papers\n",
        "papers = pd.read_csv('Dataset - Group 57 - Data.csv')\n",
        "# remove empty tweet translated\n",
        "papers.dropna(axis=0,\n",
        "    subset=[\"Tweet Translated\"],\n",
        "    inplace=True)\n",
        "papers.shape"
      ]
    },
    {
      "cell_type": "code",
      "execution_count": 18,
      "metadata": {
        "colab": {
          "base_uri": "https://localhost:8080/"
        },
        "id": "9wB1RlLD6GfZ",
        "outputId": "6bafcb9f-cf7b-47c3-b63b-ea65c40b7857"
      },
      "outputs": [
        {
          "name": "stdout",
          "output_type": "stream",
          "text": [
            "['cases', 'against', 'the', 'marcos', 'family', 'was', 'filed', 'by', 'the', 'pcgg', 'but', 'all', 'of', 'these', 'was', 'won', 'by', 'the', 'marcoses', 'still', 'the', 'government', 'takes', 'their', 'wealth']\n"
          ]
        }
      ],
      "source": [
        "\n",
        "def sent_to_words(sentences):\n",
        "    for sentence in sentences:\n",
        "        yield(gensim.utils.simple_preprocess(str(sentence), deacc=True))  # deacc=True removes punctuations\n",
        "\n",
        "data = papers[\"Tweet Translated\"].values.tolist()\n",
        "data_words = list(sent_to_words(data))\n",
        "\n",
        "print(data_words[:1][0][:30])\n"
      ]
    },
    {
      "cell_type": "code",
      "execution_count": 19,
      "metadata": {
        "id": "IWEnvDdF6Xln"
      },
      "outputs": [],
      "source": [
        "# Build the bigram and trigram models\n",
        "bigram = gensim.models.Phrases(data_words, min_count=5, threshold=100) # higher threshold fewer phrases.\n",
        "trigram = gensim.models.Phrases(bigram[data_words], threshold=100)\n",
        "\n",
        "# Faster way to get a sentence clubbed as a trigram/bigram\n",
        "bigram_mod = gensim.models.phrases.Phraser(bigram)\n",
        "trigram_mod = gensim.models.phrases.Phraser(trigram)"
      ]
    },
    {
      "cell_type": "code",
      "execution_count": 20,
      "metadata": {
        "colab": {
          "base_uri": "https://localhost:8080/"
        },
        "id": "wN2SP13h6YcM",
        "outputId": "7bea752d-ecd2-450e-b2c1-7cbca7c0a293"
      },
      "outputs": [],
      "source": [
        "# NLTK Stop words\n",
        "\n",
        "\n",
        "stop_words = stopwords.words('english')\n",
        "\n",
        "# Define functions for stopwords, bigrams, trigrams and lemmatization\n",
        "def remove_stopwords(texts):\n",
        "    return [[word for word in simple_preprocess(str(doc)) if word not in stop_words] for doc in texts]\n",
        "\n",
        "def make_bigrams(texts):\n",
        "    return [bigram_mod[doc] for doc in texts]\n",
        "\n",
        "def make_trigrams(texts):\n",
        "    return [trigram_mod[bigram_mod[doc]] for doc in texts]\n",
        "\n",
        "def lemmatization(texts, allowed_postags=['NOUN', 'ADJ', 'VERB', 'ADV']):\n",
        "    \"\"\"https://spacy.io/api/annotation\"\"\"\n",
        "    texts_out = []\n",
        "    for sent in texts:\n",
        "        doc = nlp(\" \".join(sent))\n",
        "        texts_out.append([token.lemma_ for token in doc if token.pos_ in allowed_postags])\n",
        "    return texts_out"
      ]
    },
    {
      "cell_type": "code",
      "execution_count": 21,
      "metadata": {
        "colab": {
          "base_uri": "https://localhost:8080/"
        },
        "id": "ulvNPGNE6ZGe",
        "outputId": "6e10bccb-db88-4b04-80a5-74883b87a967"
      },
      "outputs": [
        {
          "name": "stdout",
          "output_type": "stream",
          "text": [
            "['case', 'family', 'file', 'pcgg', 'marcose', 'still', 'government', 'take', 'wealth']\n"
          ]
        }
      ],
      "source": [
        "\n",
        "# Remove Stop Words\n",
        "data_words_nostops = remove_stopwords(data_words)\n",
        "\n",
        "# Form Bigrams\n",
        "data_words_bigrams = make_bigrams(data_words_nostops)\n",
        "\n",
        "# Initialize spacy 'en' model, keeping only tagger component (for efficiency)\n",
        "nlp = spacy.load(\"en_core_web_sm\", disable=['parser', 'ner'])\n",
        "\n",
        "# Do lemmatization keeping only noun, adj, vb, adv\n",
        "data_lemmatized = lemmatization(data_words_bigrams, allowed_postags=['NOUN', 'ADJ', 'VERB', 'ADV'])\n",
        "\n",
        "print(data_lemmatized[:1][0][:30])"
      ]
    },
    {
      "cell_type": "code",
      "execution_count": 22,
      "metadata": {
        "colab": {
          "base_uri": "https://localhost:8080/"
        },
        "id": "w22EHcPh6Zv9",
        "outputId": "8c051239-6053-4d2f-93f6-b5e548d18255"
      },
      "outputs": [
        {
          "name": "stdout",
          "output_type": "stream",
          "text": [
            "[(0, 1), (1, 1), (2, 1), (3, 1), (4, 1), (5, 1), (6, 1), (7, 1), (8, 1)]\n"
          ]
        }
      ],
      "source": [
        "\n",
        "# Create Dictionary\n",
        "id2word = corpora.Dictionary(data_lemmatized)\n",
        "\n",
        "# Create Corpus\n",
        "texts = data_lemmatized\n",
        "\n",
        "# Term Document Frequency\n",
        "corpus = [id2word.doc2bow(text) for text in texts]\n",
        "\n",
        "# View\n",
        "print(corpus[:1][0][:30])"
      ]
    },
    {
      "cell_type": "code",
      "execution_count": 23,
      "metadata": {
        "id": "mpm7U5IW6aT9"
      },
      "outputs": [],
      "source": [
        "# Build LDA model\n",
        "lda_model = gensim.models.LdaMulticore(corpus=corpus,\n",
        "                                       id2word=id2word,\n",
        "                                       num_topics=10,\n",
        "                                       random_state=100,\n",
        "                                       chunksize=100,\n",
        "                                       passes=10,\n",
        "                                       per_word_topics=True)"
      ]
    },
    {
      "cell_type": "code",
      "execution_count": 24,
      "metadata": {
        "colab": {
          "base_uri": "https://localhost:8080/"
        },
        "id": "aKL8VbY46a3D",
        "outputId": "28effb6f-a28c-41cc-8a43-a5c12b41c175"
      },
      "outputs": [
        {
          "name": "stdout",
          "output_type": "stream",
          "text": [
            "[(0,\n",
            "  '0.039*\"case\" + 0.019*\"dismiss\" + 0.016*\"fact\" + 0.016*\"idiot\" + '\n",
            "  '0.011*\"file\" + 0.011*\"court\" + 0.011*\"lp\" + 0.011*\"never\" + 0.011*\"reach\" + '\n",
            "  '0.011*\"house\"'),\n",
            " (1,\n",
            "  '0.062*\"case\" + 0.047*\"file\" + 0.027*\"know\" + 0.022*\"even\" + '\n",
            "  '0.016*\"philippine\" + 0.016*\"thank\" + 0.013*\"century\" + 0.012*\"trial\" + '\n",
            "  '0.012*\"marcose\" + 0.011*\"accusation\"'),\n",
            " (2,\n",
            "  '0.094*\"case\" + 0.027*\"file\" + 0.020*\"marcose\" + 0.020*\"dismiss\" + '\n",
            "  '0.017*\"court\" + 0.016*\"imelda\" + 0.013*\"even\" + 0.013*\"yet\" + '\n",
            "  '0.011*\"evidence\" + 0.011*\"thief\"'),\n",
            " (3,\n",
            "  '0.086*\"case\" + 0.029*\"marcose\" + 0.022*\"file\" + 0.022*\"wealth\" + '\n",
            "  '0.020*\"prove\" + 0.018*\"dismiss\" + 0.017*\"court\" + 0.014*\"guilty\" + '\n",
            "  '0.014*\"evidence\" + 0.013*\"imelda\"'),\n",
            " (4,\n",
            "  '0.037*\"case\" + 0.023*\"marcose\" + 0.023*\"even\" + 0.015*\"criminal\" + '\n",
            "  '0.015*\"show\" + 0.015*\"dismiss\" + 0.015*\"evidence\" + 0.015*\"proof\" + '\n",
            "  '0.008*\"corrupt\" + 0.008*\"marco\"'),\n",
            " (5,\n",
            "  '0.067*\"case\" + 0.042*\"dismiss\" + 0.039*\"evidence\" + 0.026*\"even\" + '\n",
            "  '0.026*\"marcose\" + 0.016*\"go\" + 0.014*\"trial\" + 0.014*\"yellow\" + '\n",
            "  '0.012*\"file\" + 0.011*\"century\"'),\n",
            " (6,\n",
            "  '0.020*\"case\" + 0.019*\"guilty\" + 0.019*\"allegation\" + 0.010*\"thief\" + '\n",
            "  '0.010*\"lie\" + 0.010*\"accusation\" + 0.010*\"former\" + 0.010*\"win\" + '\n",
            "  '0.010*\"hard\" + 0.010*\"still\"'),\n",
            " (7,\n",
            "  '0.037*\"proof\" + 0.029*\"case\" + 0.024*\"stupid\" + 0.020*\"imelda\" + '\n",
            "  '0.019*\"show\" + 0.019*\"yet\" + 0.019*\"steal\" + 0.018*\"come\" + '\n",
            "  '0.013*\"corruption\" + 0.013*\"marcose\"'),\n",
            " (8,\n",
            "  '0.075*\"case\" + 0.029*\"dismiss\" + 0.026*\"marcose\" + 0.023*\"trial\" + '\n",
            "  '0.021*\"file\" + 0.017*\"say\" + 0.015*\"also\" + 0.015*\"make\" + 0.015*\"century\" '\n",
            "  '+ 0.015*\"know\"'),\n",
            " (9,\n",
            "  '0.077*\"case\" + 0.028*\"court\" + 0.027*\"marcose\" + 0.019*\"steal\" + '\n",
            "  '0.017*\"aquino\" + 0.016*\"even\" + 0.016*\"year\" + 0.015*\"file\" + '\n",
            "  '0.014*\"already\" + 0.013*\"guilty\"')]\n"
          ]
        }
      ],
      "source": [
        "\n",
        "# Print the Keyword in the 10 topics\n",
        "pprint(lda_model.print_topics())\n",
        "doc_lda = lda_model[corpus]"
      ]
    },
    {
      "cell_type": "code",
      "execution_count": 25,
      "metadata": {
        "colab": {
          "base_uri": "https://localhost:8080/"
        },
        "id": "aSIWNOMA6bt5",
        "outputId": "4ccb1e84-dfef-4e81-cab2-d85bbcf7c455"
      },
      "outputs": [
        {
          "name": "stdout",
          "output_type": "stream",
          "text": [
            "Coherence Score:  0.2605941622247848\n"
          ]
        }
      ],
      "source": [
        "\n",
        "# Compute Coherence Score\n",
        "coherence_model_lda = CoherenceModel(model=lda_model, texts=data_lemmatized, dictionary=id2word, coherence='c_v')\n",
        "coherence_lda = coherence_model_lda.get_coherence()\n",
        "print('Coherence Score: ', coherence_lda)"
      ]
    },
    {
      "cell_type": "code",
      "execution_count": 26,
      "metadata": {
        "id": "SypaBjpA6cWD"
      },
      "outputs": [],
      "source": [
        "# supporting function\n",
        "def compute_coherence_values(corpus, dictionary, k, a, b):\n",
        "\n",
        "    lda_model = gensim.models.LdaMulticore(corpus=corpus,\n",
        "                                           id2word=dictionary,\n",
        "                                           num_topics=k,\n",
        "                                           random_state=100,\n",
        "                                           chunksize=100,\n",
        "                                           passes=10,\n",
        "                                           alpha=a,\n",
        "                                           eta=b)\n",
        "\n",
        "    coherence_model_lda = CoherenceModel(model=lda_model, texts=data_lemmatized, dictionary=id2word, coherence='c_v')\n",
        "\n",
        "    return coherence_model_lda.get_coherence()"
      ]
    },
    {
      "cell_type": "code",
      "execution_count": 27,
      "metadata": {
        "colab": {
          "base_uri": "https://localhost:8080/",
          "height": 390
        },
        "id": "xlOcpLiy6c7A",
        "outputId": "a202b87f-c22d-4861-c731-4f182051b1e6"
      },
      "outputs": [
        {
          "name": "stderr",
          "output_type": "stream",
          "text": [
            " 13%|█▎        | 69/540 [12:07<1:25:21, 10.87s/it]"
          ]
        }
      ],
      "source": [
        "\n",
        "grid = {}\n",
        "grid['Validation_Set'] = {}\n",
        "\n",
        "# Topics range\n",
        "min_topics = 2\n",
        "max_topics = 11\n",
        "step_size = 1\n",
        "topics_range = range(min_topics, max_topics, step_size)\n",
        "\n",
        "# Alpha parameter\n",
        "alpha = list(np.arange(0.01, 1, 0.3))\n",
        "alpha.append('symmetric')\n",
        "alpha.append('asymmetric')\n",
        "\n",
        "# Beta parameter\n",
        "beta = list(np.arange(0.01, 1, 0.3))\n",
        "beta.append('symmetric')\n",
        "\n",
        "# Validation sets\n",
        "num_of_docs = len(corpus)\n",
        "corpus_sets = [gensim.utils.ClippedCorpus(corpus, int(num_of_docs*0.75)),\n",
        "               corpus]\n",
        "\n",
        "corpus_title = ['75% Corpus', '100% Corpus']\n",
        "\n",
        "model_results = {'Validation_Set': [],\n",
        "                 'Topics': [],\n",
        "                 'Alpha': [],\n",
        "                 'Beta': [],\n",
        "                 'Coherence': []\n",
        "                }\n",
        "\n",
        "# Can take a long time to run\n",
        "if 1 == 1:\n",
        "    pbar = tqdm.tqdm(total=(len(beta)*len(alpha)*len(topics_range)*len(corpus_title)))\n",
        "\n",
        "    # iterate through validation corpuses\n",
        "    for i in range(len(corpus_sets)):\n",
        "        # iterate through number of topics\n",
        "        for k in topics_range:\n",
        "            # iterate through alpha values\n",
        "            for a in alpha:\n",
        "                # iterare through beta values\n",
        "                for b in beta:\n",
        "                    # get the coherence score for the given parameters\n",
        "                    cv = compute_coherence_values(corpus=corpus_sets[i], dictionary=id2word,\n",
        "                                                  k=k, a=a, b=b)\n",
        "                    # Save the model results\n",
        "                    model_results['Validation_Set'].append(corpus_title[i])\n",
        "                    model_results['Topics'].append(k)\n",
        "                    model_results['Alpha'].append(a)\n",
        "                    model_results['Beta'].append(b)\n",
        "                    model_results['Coherence'].append(cv)\n",
        "\n",
        "                    pbar.update(1)\n",
        "    pd.DataFrame(model_results).to_csv('./results/lda_tuning_results.csv', index=False)\n",
        "    pbar.close()"
      ]
    },
    {
      "cell_type": "code",
      "execution_count": null,
      "metadata": {
        "id": "ecVvK_dG6d6a"
      },
      "outputs": [
        {
          "ename": "OSError",
          "evalue": "Cannot save file into a non-existent directory: 'results'",
          "output_type": "error",
          "traceback": [
            "\u001b[1;31m---------------------------------------------------------------------------\u001b[0m",
            "\u001b[1;31mOSError\u001b[0m                                   Traceback (most recent call last)",
            "Cell \u001b[1;32mIn[28], line 1\u001b[0m\n\u001b[1;32m----> 1\u001b[0m pd\u001b[39m.\u001b[39;49mDataFrame(model_results)\u001b[39m.\u001b[39;49mto_csv(\u001b[39m'\u001b[39;49m\u001b[39m./results/lda_tuning_results.csv\u001b[39;49m\u001b[39m'\u001b[39;49m, index\u001b[39m=\u001b[39;49m\u001b[39mFalse\u001b[39;49;00m)\n",
            "File \u001b[1;32mc:\\Users\\Migui\\AppData\\Local\\Programs\\Python\\Python310\\lib\\site-packages\\pandas\\core\\generic.py:3772\u001b[0m, in \u001b[0;36mNDFrame.to_csv\u001b[1;34m(self, path_or_buf, sep, na_rep, float_format, columns, header, index, index_label, mode, encoding, compression, quoting, quotechar, lineterminator, chunksize, date_format, doublequote, escapechar, decimal, errors, storage_options)\u001b[0m\n\u001b[0;32m   3761\u001b[0m df \u001b[39m=\u001b[39m \u001b[39mself\u001b[39m \u001b[39mif\u001b[39;00m \u001b[39misinstance\u001b[39m(\u001b[39mself\u001b[39m, ABCDataFrame) \u001b[39melse\u001b[39;00m \u001b[39mself\u001b[39m\u001b[39m.\u001b[39mto_frame()\n\u001b[0;32m   3763\u001b[0m formatter \u001b[39m=\u001b[39m DataFrameFormatter(\n\u001b[0;32m   3764\u001b[0m     frame\u001b[39m=\u001b[39mdf,\n\u001b[0;32m   3765\u001b[0m     header\u001b[39m=\u001b[39mheader,\n\u001b[1;32m   (...)\u001b[0m\n\u001b[0;32m   3769\u001b[0m     decimal\u001b[39m=\u001b[39mdecimal,\n\u001b[0;32m   3770\u001b[0m )\n\u001b[1;32m-> 3772\u001b[0m \u001b[39mreturn\u001b[39;00m DataFrameRenderer(formatter)\u001b[39m.\u001b[39;49mto_csv(\n\u001b[0;32m   3773\u001b[0m     path_or_buf,\n\u001b[0;32m   3774\u001b[0m     lineterminator\u001b[39m=\u001b[39;49mlineterminator,\n\u001b[0;32m   3775\u001b[0m     sep\u001b[39m=\u001b[39;49msep,\n\u001b[0;32m   3776\u001b[0m     encoding\u001b[39m=\u001b[39;49mencoding,\n\u001b[0;32m   3777\u001b[0m     errors\u001b[39m=\u001b[39;49merrors,\n\u001b[0;32m   3778\u001b[0m     compression\u001b[39m=\u001b[39;49mcompression,\n\u001b[0;32m   3779\u001b[0m     quoting\u001b[39m=\u001b[39;49mquoting,\n\u001b[0;32m   3780\u001b[0m     columns\u001b[39m=\u001b[39;49mcolumns,\n\u001b[0;32m   3781\u001b[0m     index_label\u001b[39m=\u001b[39;49mindex_label,\n\u001b[0;32m   3782\u001b[0m     mode\u001b[39m=\u001b[39;49mmode,\n\u001b[0;32m   3783\u001b[0m     chunksize\u001b[39m=\u001b[39;49mchunksize,\n\u001b[0;32m   3784\u001b[0m     quotechar\u001b[39m=\u001b[39;49mquotechar,\n\u001b[0;32m   3785\u001b[0m     date_format\u001b[39m=\u001b[39;49mdate_format,\n\u001b[0;32m   3786\u001b[0m     doublequote\u001b[39m=\u001b[39;49mdoublequote,\n\u001b[0;32m   3787\u001b[0m     escapechar\u001b[39m=\u001b[39;49mescapechar,\n\u001b[0;32m   3788\u001b[0m     storage_options\u001b[39m=\u001b[39;49mstorage_options,\n\u001b[0;32m   3789\u001b[0m )\n",
            "File \u001b[1;32mc:\\Users\\Migui\\AppData\\Local\\Programs\\Python\\Python310\\lib\\site-packages\\pandas\\io\\formats\\format.py:1186\u001b[0m, in \u001b[0;36mDataFrameRenderer.to_csv\u001b[1;34m(self, path_or_buf, encoding, sep, columns, index_label, mode, compression, quoting, quotechar, lineterminator, chunksize, date_format, doublequote, escapechar, errors, storage_options)\u001b[0m\n\u001b[0;32m   1165\u001b[0m     created_buffer \u001b[39m=\u001b[39m \u001b[39mFalse\u001b[39;00m\n\u001b[0;32m   1167\u001b[0m csv_formatter \u001b[39m=\u001b[39m CSVFormatter(\n\u001b[0;32m   1168\u001b[0m     path_or_buf\u001b[39m=\u001b[39mpath_or_buf,\n\u001b[0;32m   1169\u001b[0m     lineterminator\u001b[39m=\u001b[39mlineterminator,\n\u001b[1;32m   (...)\u001b[0m\n\u001b[0;32m   1184\u001b[0m     formatter\u001b[39m=\u001b[39m\u001b[39mself\u001b[39m\u001b[39m.\u001b[39mfmt,\n\u001b[0;32m   1185\u001b[0m )\n\u001b[1;32m-> 1186\u001b[0m csv_formatter\u001b[39m.\u001b[39;49msave()\n\u001b[0;32m   1188\u001b[0m \u001b[39mif\u001b[39;00m created_buffer:\n\u001b[0;32m   1189\u001b[0m     \u001b[39massert\u001b[39;00m \u001b[39misinstance\u001b[39m(path_or_buf, StringIO)\n",
            "File \u001b[1;32mc:\\Users\\Migui\\AppData\\Local\\Programs\\Python\\Python310\\lib\\site-packages\\pandas\\io\\formats\\csvs.py:240\u001b[0m, in \u001b[0;36mCSVFormatter.save\u001b[1;34m(self)\u001b[0m\n\u001b[0;32m    236\u001b[0m \u001b[39m\u001b[39m\u001b[39m\"\"\"\u001b[39;00m\n\u001b[0;32m    237\u001b[0m \u001b[39mCreate the writer & save.\u001b[39;00m\n\u001b[0;32m    238\u001b[0m \u001b[39m\"\"\"\u001b[39;00m\n\u001b[0;32m    239\u001b[0m \u001b[39m# apply compression and byte/text conversion\u001b[39;00m\n\u001b[1;32m--> 240\u001b[0m \u001b[39mwith\u001b[39;00m get_handle(\n\u001b[0;32m    241\u001b[0m     \u001b[39mself\u001b[39;49m\u001b[39m.\u001b[39;49mfilepath_or_buffer,\n\u001b[0;32m    242\u001b[0m     \u001b[39mself\u001b[39;49m\u001b[39m.\u001b[39;49mmode,\n\u001b[0;32m    243\u001b[0m     encoding\u001b[39m=\u001b[39;49m\u001b[39mself\u001b[39;49m\u001b[39m.\u001b[39;49mencoding,\n\u001b[0;32m    244\u001b[0m     errors\u001b[39m=\u001b[39;49m\u001b[39mself\u001b[39;49m\u001b[39m.\u001b[39;49merrors,\n\u001b[0;32m    245\u001b[0m     compression\u001b[39m=\u001b[39;49m\u001b[39mself\u001b[39;49m\u001b[39m.\u001b[39;49mcompression,\n\u001b[0;32m    246\u001b[0m     storage_options\u001b[39m=\u001b[39;49m\u001b[39mself\u001b[39;49m\u001b[39m.\u001b[39;49mstorage_options,\n\u001b[0;32m    247\u001b[0m ) \u001b[39mas\u001b[39;00m handles:\n\u001b[0;32m    248\u001b[0m     \u001b[39m# Note: self.encoding is irrelevant here\u001b[39;00m\n\u001b[0;32m    249\u001b[0m     \u001b[39mself\u001b[39m\u001b[39m.\u001b[39mwriter \u001b[39m=\u001b[39m csvlib\u001b[39m.\u001b[39mwriter(\n\u001b[0;32m    250\u001b[0m         handles\u001b[39m.\u001b[39mhandle,\n\u001b[0;32m    251\u001b[0m         lineterminator\u001b[39m=\u001b[39m\u001b[39mself\u001b[39m\u001b[39m.\u001b[39mlineterminator,\n\u001b[1;32m   (...)\u001b[0m\n\u001b[0;32m    256\u001b[0m         quotechar\u001b[39m=\u001b[39m\u001b[39mself\u001b[39m\u001b[39m.\u001b[39mquotechar,\n\u001b[0;32m    257\u001b[0m     )\n\u001b[0;32m    259\u001b[0m     \u001b[39mself\u001b[39m\u001b[39m.\u001b[39m_save()\n",
            "File \u001b[1;32mc:\\Users\\Migui\\AppData\\Local\\Programs\\Python\\Python310\\lib\\site-packages\\pandas\\io\\common.py:737\u001b[0m, in \u001b[0;36mget_handle\u001b[1;34m(path_or_buf, mode, encoding, compression, memory_map, is_text, errors, storage_options)\u001b[0m\n\u001b[0;32m    735\u001b[0m \u001b[39m# Only for write methods\u001b[39;00m\n\u001b[0;32m    736\u001b[0m \u001b[39mif\u001b[39;00m \u001b[39m\"\u001b[39m\u001b[39mr\u001b[39m\u001b[39m\"\u001b[39m \u001b[39mnot\u001b[39;00m \u001b[39min\u001b[39;00m mode \u001b[39mand\u001b[39;00m is_path:\n\u001b[1;32m--> 737\u001b[0m     check_parent_directory(\u001b[39mstr\u001b[39;49m(handle))\n\u001b[0;32m    739\u001b[0m \u001b[39mif\u001b[39;00m compression:\n\u001b[0;32m    740\u001b[0m     \u001b[39mif\u001b[39;00m compression \u001b[39m!=\u001b[39m \u001b[39m\"\u001b[39m\u001b[39mzstd\u001b[39m\u001b[39m\"\u001b[39m:\n\u001b[0;32m    741\u001b[0m         \u001b[39m# compression libraries do not like an explicit text-mode\u001b[39;00m\n",
            "File \u001b[1;32mc:\\Users\\Migui\\AppData\\Local\\Programs\\Python\\Python310\\lib\\site-packages\\pandas\\io\\common.py:600\u001b[0m, in \u001b[0;36mcheck_parent_directory\u001b[1;34m(path)\u001b[0m\n\u001b[0;32m    598\u001b[0m parent \u001b[39m=\u001b[39m Path(path)\u001b[39m.\u001b[39mparent\n\u001b[0;32m    599\u001b[0m \u001b[39mif\u001b[39;00m \u001b[39mnot\u001b[39;00m parent\u001b[39m.\u001b[39mis_dir():\n\u001b[1;32m--> 600\u001b[0m     \u001b[39mraise\u001b[39;00m \u001b[39mOSError\u001b[39;00m(\u001b[39mrf\u001b[39m\u001b[39m\"\u001b[39m\u001b[39mCannot save file into a non-existent directory: \u001b[39m\u001b[39m'\u001b[39m\u001b[39m{\u001b[39;00mparent\u001b[39m}\u001b[39;00m\u001b[39m'\u001b[39m\u001b[39m\"\u001b[39m)\n",
            "\u001b[1;31mOSError\u001b[0m: Cannot save file into a non-existent directory: 'results'"
          ]
        }
      ],
      "source": [
        "pd.DataFrame(model_results).to_csv('./results/lda_tuning_results.csv', index=False)"
      ]
    }
  ],
  "metadata": {
    "colab": {
      "provenance": []
    },
    "kernelspec": {
      "display_name": "Python 3",
      "name": "python3"
    },
    "language_info": {
      "codemirror_mode": {
        "name": "ipython",
        "version": 3
      },
      "file_extension": ".py",
      "mimetype": "text/x-python",
      "name": "python",
      "nbconvert_exporter": "python",
      "pygments_lexer": "ipython3",
      "version": "3.10.11"
    }
  },
  "nbformat": 4,
  "nbformat_minor": 0
}
